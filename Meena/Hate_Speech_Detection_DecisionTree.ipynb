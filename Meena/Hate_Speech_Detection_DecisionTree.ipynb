{
  "nbformat": 4,
  "nbformat_minor": 0,
  "metadata": {
    "colab": {
      "provenance": []
    },
    "kernelspec": {
      "name": "python3",
      "display_name": "Python 3"
    },
    "language_info": {
      "name": "python"
    }
  },
  "cells": [
    {
      "cell_type": "code",
      "source": [
        "!pip install nltk\n",
        "import pandas as pd\n",
        "import numpy as np\n",
        "import nltk\n",
        "import re\n",
        "import string\n",
        "\n",
        "from sklearn.feature_extraction.text import CountVectorizer\n",
        "from sklearn.model_selection import train_test_split\n",
        "from sklearn.tree import DecisionTreeClassifier\n",
        "\n",
        "# Download required NLTK resources\n",
        "nltk.download('punkt')\n",
        "nltk.download('stopwords')\n",
        "\n",
        "stemmer = nltk.SnowballStemmer(\"english\")\n",
        "\n",
        "def clean(text):\n",
        "    # Convert to lowercase\n",
        "    text = str(text).lower()\n",
        "\n",
        "    # Remove unwanted content\n",
        "    text = re.sub('\\[.*?\\]','',text)  # Remove square brackets content\n",
        "    text = re.sub('https?://\\S+|www\\.\\S+','',text)  # Remove URLs\n",
        "    text = re.sub('<.*?>+','',text)  # Remove HTML tags\n",
        "    text = re.sub('[%s]' % re.escape(string.punctuation),'', text)  # Remove punctuation\n",
        "    text = re.sub('\\n','',text)  # Remove newline characters\n",
        "\n",
        "    # Split into words and remove stopwords\n",
        "    words = text.split()\n",
        "    words = [word for word in words if word not in nltk.corpus.stopwords.words('english')]  # Remove stopwords\n",
        "\n",
        "    # Perform stemming\n",
        "    words = [stemmer.stem(word) for word in words]\n",
        "\n",
        "    # Join words back to text\n",
        "    text = \" \".join(words)\n",
        "\n",
        "    # Handle cases where text becomes empty\n",
        "    if not text.strip():\n",
        "        text = \"emptytweet\"  # Placeholder for empty tweets\n",
        "\n",
        "    return text\n",
        "\n",
        "# Load your dataset\n",
        "data = pd.read_csv('train2.csv')  # Replace with your actual file path\n",
        "\n",
        "# Apply the cleaning function to the 'tweet' column\n",
        "data['tweet'] = data['tweet'].apply(clean)\n",
        "\n",
        "# Check for empty tweets\n",
        "empty_tweets = data[data['tweet'] == \"emptytweet\"]\n",
        "print(f\"Number of empty tweets: {len(empty_tweets)}\")\n",
        "\n",
        "data[\"labels\"]= data[\"class\"].map({0: \"Hate Speech\", 1:\"Offensive Language\", 2:\"Normal\"})\n",
        "\n",
        "# Ensure 'labels' column exists\n",
        "if 'labels' not in data.columns:\n",
        "    raise ValueError(\"The 'labels' column is missing in the dataset.\")\n",
        "\n",
        "# Ensure no empty labels exist\n",
        "data = data[data['labels'].notnull()]\n",
        "\n",
        "# Prepare features and labels\n",
        "x = np.array(data[\"tweet\"])\n",
        "y = np.array(data[\"labels\"])\n",
        "\n",
        "# Apply CountVectorizer to convert text into numeric features\n",
        "cv = CountVectorizer()\n",
        "X = cv.fit_transform(x)\n",
        "\n",
        "# Check vocabulary size\n",
        "vocabulary_size = len(cv.get_feature_names_out())\n",
        "print(f\"Vocabulary size: {vocabulary_size}\")\n",
        "\n",
        "# Split the data into training and testing sets\n",
        "X_train, X_test, y_train, y_test = train_test_split(X, y, test_size=0.33, random_state=42)\n",
        "\n",
        "# Train the model\n",
        "clf = DecisionTreeClassifier()\n",
        "clf.fit(X_train, y_train)\n",
        "\n",
        "# Evaluate the model\n",
        "print(f\"Training Accuracy: {clf.score(X_train, y_train)}\")\n",
        "print(f\"Test Accuracy: {clf.score(X_test, y_test)}\")\n",
        "\n",
        "\n",
        "sample = \"hello\"\n",
        "data = cv.transform([sample]).toarray()\n",
        "print(clf.predict(data))\n"
      ],
      "metadata": {
        "colab": {
          "base_uri": "https://localhost:8080/"
        },
        "id": "RIXLPWrbJUHc",
        "outputId": "6e4c4604-3d89-45e9-e25a-7ff888b131f9"
      },
      "execution_count": 2,
      "outputs": [
        {
          "output_type": "stream",
          "name": "stdout",
          "text": [
            "Requirement already satisfied: nltk in /usr/local/lib/python3.10/dist-packages (3.9.1)\n",
            "Requirement already satisfied: click in /usr/local/lib/python3.10/dist-packages (from nltk) (8.1.7)\n",
            "Requirement already satisfied: joblib in /usr/local/lib/python3.10/dist-packages (from nltk) (1.4.2)\n",
            "Requirement already satisfied: regex>=2021.8.3 in /usr/local/lib/python3.10/dist-packages (from nltk) (2024.9.11)\n",
            "Requirement already satisfied: tqdm in /usr/local/lib/python3.10/dist-packages (from nltk) (4.66.6)\n"
          ]
        },
        {
          "output_type": "stream",
          "name": "stderr",
          "text": [
            "[nltk_data] Downloading package punkt to /root/nltk_data...\n",
            "[nltk_data]   Package punkt is already up-to-date!\n",
            "[nltk_data] Downloading package stopwords to /root/nltk_data...\n",
            "[nltk_data]   Package stopwords is already up-to-date!\n"
          ]
        },
        {
          "output_type": "stream",
          "name": "stdout",
          "text": [
            "Number of empty tweets: 0\n",
            "Vocabulary size: 33741\n",
            "Training Accuracy: 0.9997590941941701\n",
            "Test Accuracy: 0.8740677344418633\n",
            "['Normal']\n"
          ]
        }
      ]
    },
    {
      "cell_type": "code",
      "source": [
        "def clean(text):\n",
        "    # Convert to lowercase\n",
        "    text = str(text).lower()\n",
        "\n",
        "    # Remove unwanted content\n",
        "    text = re.sub('\\[.*?\\]','',text)  # Remove square brackets content\n",
        "    text = re.sub('https?://\\S+|www\\.\\S+','',text)  # Remove URLs\n",
        "    text = re.sub('<.*?>+','',text)  # Remove HTML tags\n",
        "    text = re.sub('[%s]' % re.escape(string.punctuation),'', text)  # Remove punctuation\n",
        "    text = re.sub('\\n','',text)  # Remove newline characters\n",
        "\n",
        "    words = text.split()\n",
        "    words = [word for word in words if word not in nltk.corpus.stopwords.words('english')]  # Remove stopwords\n",
        "\n",
        "    # Perform stemming\n",
        "    words = [stemmer.stem(word) for word in words]\n",
        "\n",
        "    # Join words back to text\n",
        "    text = \" \".join(words)\n",
        "\n",
        "    # Handle cases where text becomes empty\n",
        "    if not text.strip():\n",
        "        text = \"emptytweet\"  # Placeholder for empty tweets\n",
        "\n",
        "    return text\n"
      ],
      "metadata": {
        "id": "dkoW_U_XnRML"
      },
      "execution_count": null,
      "outputs": []
    },
    {
      "cell_type": "code",
      "source": [
        "data = pd.read_csv('train2.csv')  # Replace with your actual file path\n",
        "\n",
        "# Apply the cleaning function to the 'tweet' column\n",
        "data['tweet'] = data['tweet'].apply(clean)\n",
        "\n",
        "# Check for empty tweets\n",
        "empty_tweets = data[data['tweet'] == \"emptytweet\"]\n",
        "print(f\"Number of empty tweets: {len(empty_tweets)}\")\n",
        "\n",
        "data[\"labels\"]= data[\"class\"].map({0: \"Hate Speech\", 1:\"Offensive Language\", 2:\"Normal\"})\n",
        "\n",
        "# Ensure 'labels' column exists\n",
        "if 'labels' not in data.columns:\n",
        "    raise ValueError(\"The 'labels' column is missing in the dataset.\")"
      ],
      "metadata": {
        "colab": {
          "base_uri": "https://localhost:8080/"
        },
        "id": "1Dafbjhlnb7X",
        "outputId": "f52934c5-0086-4919-f041-9afe23c18f91"
      },
      "execution_count": 3,
      "outputs": [
        {
          "output_type": "stream",
          "name": "stdout",
          "text": [
            "Number of empty tweets: 0\n"
          ]
        }
      ]
    },
    {
      "cell_type": "code",
      "source": [
        "# Ensure no empty labels exist\n",
        "data = data[data['labels'].notnull()]\n",
        "\n",
        "# Prepare features and labels\n",
        "x = np.array(data[\"tweet\"])\n",
        "y = np.array(data[\"labels\"])\n",
        "\n",
        "# Apply CountVectorizer to convert text into numeric features\n",
        "cv = CountVectorizer()\n",
        "X = cv.fit_transform(x)\n"
      ],
      "metadata": {
        "id": "VdRterORnvdl"
      },
      "execution_count": 4,
      "outputs": []
    },
    {
      "cell_type": "code",
      "source": [
        "vocabulary_size = len(cv.get_feature_names_out())\n",
        "print(f\"Vocabulary size: {vocabulary_size}\")\n",
        "\n",
        "# Split the data into training and testing sets\n",
        "X_train, X_test, y_train, y_test = train_test_split(X, y, test_size=0.33, random_state=42)\n",
        "\n",
        "# Train the model\n",
        "clf = DecisionTreeClassifier()\n",
        "clf.fit(X_train, y_train)\n",
        "\n",
        "# Evaluate the model\n",
        "print(f\"Training Accuracy: {clf.score(X_train, y_train)}\")\n",
        "print(f\"Test Accuracy: {clf.score(X_test, y_test)}\")\n"
      ],
      "metadata": {
        "id": "5BP2bHnFn1u1",
        "outputId": "7168a6de-5ac3-49b5-db80-fec4d92270a4",
        "colab": {
          "base_uri": "https://localhost:8080/"
        }
      },
      "execution_count": 5,
      "outputs": [
        {
          "output_type": "stream",
          "name": "stdout",
          "text": [
            "Vocabulary size: 33741\n",
            "Training Accuracy: 0.9997590941941701\n",
            "Test Accuracy: 0.8730896197579167\n"
          ]
        }
      ]
    },
    {
      "cell_type": "code",
      "source": [
        "sample = \"hello\"\n",
        "data = cv.transform([sample]).toarray()\n",
        "print(clf.predict(data))"
      ],
      "metadata": {
        "id": "NmzOFF7Vn6uq",
        "outputId": "e6383a7d-9c5a-4f68-ad80-9ac5abe4639a",
        "colab": {
          "base_uri": "https://localhost:8080/"
        }
      },
      "execution_count": 6,
      "outputs": [
        {
          "output_type": "stream",
          "name": "stdout",
          "text": [
            "['Normal']\n"
          ]
        }
      ]
    },
    {
      "cell_type": "code",
      "source": [
        "!pip install matplotlib\n",
        "!pip install seaborn\n",
        "!pip install wordcloud\n",
        "\n",
        "\n",
        "import matplotlib.pyplot as plt\n",
        "import seaborn as sns\n",
        "from wordcloud import WordCloud\n",
        "from sklearn.metrics import confusion_matrix, classification_report\n",
        "\n",
        "# 1. Visualizing Class Distribution\n",
        "def plot_class_distribution(labels):\n",
        "    plt.figure(figsize=(8, 6))\n",
        "    sns.countplot(x=labels, palette=\"viridis\")\n",
        "    plt.title(\"Class Distribution\", fontsize=14)\n",
        "    plt.xlabel(\"Labels\", fontsize=12)\n",
        "    plt.ylabel(\"Count\", fontsize=12)\n",
        "    plt.show()\n",
        "\n",
        "plot_class_distribution(y)"
      ],
      "metadata": {
        "colab": {
          "base_uri": "https://localhost:8080/",
          "height": 1000
        },
        "id": "dovfS_M9JVKd",
        "outputId": "a65b4cfb-30cc-4bb7-c415-7c2cd5a19c6d"
      },
      "execution_count": 7,
      "outputs": [
        {
          "output_type": "stream",
          "name": "stdout",
          "text": [
            "Requirement already satisfied: matplotlib in /usr/local/lib/python3.10/dist-packages (3.8.0)\n",
            "Requirement already satisfied: contourpy>=1.0.1 in /usr/local/lib/python3.10/dist-packages (from matplotlib) (1.3.1)\n",
            "Requirement already satisfied: cycler>=0.10 in /usr/local/lib/python3.10/dist-packages (from matplotlib) (0.12.1)\n",
            "Requirement already satisfied: fonttools>=4.22.0 in /usr/local/lib/python3.10/dist-packages (from matplotlib) (4.55.3)\n",
            "Requirement already satisfied: kiwisolver>=1.0.1 in /usr/local/lib/python3.10/dist-packages (from matplotlib) (1.4.7)\n",
            "Requirement already satisfied: numpy<2,>=1.21 in /usr/local/lib/python3.10/dist-packages (from matplotlib) (1.26.4)\n",
            "Requirement already satisfied: packaging>=20.0 in /usr/local/lib/python3.10/dist-packages (from matplotlib) (24.2)\n",
            "Requirement already satisfied: pillow>=6.2.0 in /usr/local/lib/python3.10/dist-packages (from matplotlib) (11.0.0)\n",
            "Requirement already satisfied: pyparsing>=2.3.1 in /usr/local/lib/python3.10/dist-packages (from matplotlib) (3.2.0)\n",
            "Requirement already satisfied: python-dateutil>=2.7 in /usr/local/lib/python3.10/dist-packages (from matplotlib) (2.8.2)\n",
            "Requirement already satisfied: six>=1.5 in /usr/local/lib/python3.10/dist-packages (from python-dateutil>=2.7->matplotlib) (1.17.0)\n",
            "Requirement already satisfied: seaborn in /usr/local/lib/python3.10/dist-packages (0.13.2)\n",
            "Requirement already satisfied: numpy!=1.24.0,>=1.20 in /usr/local/lib/python3.10/dist-packages (from seaborn) (1.26.4)\n",
            "Requirement already satisfied: pandas>=1.2 in /usr/local/lib/python3.10/dist-packages (from seaborn) (2.2.2)\n",
            "Requirement already satisfied: matplotlib!=3.6.1,>=3.4 in /usr/local/lib/python3.10/dist-packages (from seaborn) (3.8.0)\n",
            "Requirement already satisfied: contourpy>=1.0.1 in /usr/local/lib/python3.10/dist-packages (from matplotlib!=3.6.1,>=3.4->seaborn) (1.3.1)\n",
            "Requirement already satisfied: cycler>=0.10 in /usr/local/lib/python3.10/dist-packages (from matplotlib!=3.6.1,>=3.4->seaborn) (0.12.1)\n",
            "Requirement already satisfied: fonttools>=4.22.0 in /usr/local/lib/python3.10/dist-packages (from matplotlib!=3.6.1,>=3.4->seaborn) (4.55.3)\n",
            "Requirement already satisfied: kiwisolver>=1.0.1 in /usr/local/lib/python3.10/dist-packages (from matplotlib!=3.6.1,>=3.4->seaborn) (1.4.7)\n",
            "Requirement already satisfied: packaging>=20.0 in /usr/local/lib/python3.10/dist-packages (from matplotlib!=3.6.1,>=3.4->seaborn) (24.2)\n",
            "Requirement already satisfied: pillow>=6.2.0 in /usr/local/lib/python3.10/dist-packages (from matplotlib!=3.6.1,>=3.4->seaborn) (11.0.0)\n",
            "Requirement already satisfied: pyparsing>=2.3.1 in /usr/local/lib/python3.10/dist-packages (from matplotlib!=3.6.1,>=3.4->seaborn) (3.2.0)\n",
            "Requirement already satisfied: python-dateutil>=2.7 in /usr/local/lib/python3.10/dist-packages (from matplotlib!=3.6.1,>=3.4->seaborn) (2.8.2)\n",
            "Requirement already satisfied: pytz>=2020.1 in /usr/local/lib/python3.10/dist-packages (from pandas>=1.2->seaborn) (2024.2)\n",
            "Requirement already satisfied: tzdata>=2022.7 in /usr/local/lib/python3.10/dist-packages (from pandas>=1.2->seaborn) (2024.2)\n",
            "Requirement already satisfied: six>=1.5 in /usr/local/lib/python3.10/dist-packages (from python-dateutil>=2.7->matplotlib!=3.6.1,>=3.4->seaborn) (1.17.0)\n",
            "Requirement already satisfied: wordcloud in /usr/local/lib/python3.10/dist-packages (1.9.4)\n",
            "Requirement already satisfied: numpy>=1.6.1 in /usr/local/lib/python3.10/dist-packages (from wordcloud) (1.26.4)\n",
            "Requirement already satisfied: pillow in /usr/local/lib/python3.10/dist-packages (from wordcloud) (11.0.0)\n",
            "Requirement already satisfied: matplotlib in /usr/local/lib/python3.10/dist-packages (from wordcloud) (3.8.0)\n",
            "Requirement already satisfied: contourpy>=1.0.1 in /usr/local/lib/python3.10/dist-packages (from matplotlib->wordcloud) (1.3.1)\n",
            "Requirement already satisfied: cycler>=0.10 in /usr/local/lib/python3.10/dist-packages (from matplotlib->wordcloud) (0.12.1)\n",
            "Requirement already satisfied: fonttools>=4.22.0 in /usr/local/lib/python3.10/dist-packages (from matplotlib->wordcloud) (4.55.3)\n",
            "Requirement already satisfied: kiwisolver>=1.0.1 in /usr/local/lib/python3.10/dist-packages (from matplotlib->wordcloud) (1.4.7)\n",
            "Requirement already satisfied: packaging>=20.0 in /usr/local/lib/python3.10/dist-packages (from matplotlib->wordcloud) (24.2)\n",
            "Requirement already satisfied: pyparsing>=2.3.1 in /usr/local/lib/python3.10/dist-packages (from matplotlib->wordcloud) (3.2.0)\n",
            "Requirement already satisfied: python-dateutil>=2.7 in /usr/local/lib/python3.10/dist-packages (from matplotlib->wordcloud) (2.8.2)\n",
            "Requirement already satisfied: six>=1.5 in /usr/local/lib/python3.10/dist-packages (from python-dateutil>=2.7->matplotlib->wordcloud) (1.17.0)\n"
          ]
        },
        {
          "output_type": "stream",
          "name": "stderr",
          "text": [
            "<ipython-input-7-307633654b29>:14: FutureWarning: \n",
            "\n",
            "Passing `palette` without assigning `hue` is deprecated and will be removed in v0.14.0. Assign the `x` variable to `hue` and set `legend=False` for the same effect.\n",
            "\n",
            "  sns.countplot(x=labels, palette=\"viridis\")\n"
          ]
        },
        {
          "output_type": "display_data",
          "data": {
            "text/plain": [
              "<Figure size 800x600 with 1 Axes>"
            ],
            "image/png": "[encoded data removed]"
          },
          "metadata": {}
        }
      ]
    },
    {
      "cell_type": "code",
      "source": [
        "def plot_confusion_matrix(y_true, y_pred, labels):\n",
        "    cm = confusion_matrix(y_true, y_pred, labels=labels)\n",
        "    plt.figure(figsize=(8, 6))\n",
        "    sns.heatmap(cm, annot=True, fmt='d', cmap=\"YlGnBu\", xticklabels=labels, yticklabels=labels)\n",
        "    plt.title(\"Confusion Matrix\", fontsize=14)\n",
        "    plt.xlabel(\"Predicted\", fontsize=12)\n",
        "    plt.ylabel(\"Actual\", fontsize=12)\n",
        "    plt.show()\n",
        "\n",
        "# Get predictions before calling the function\n",
        "y_pred = clf.predict(X_test)\n",
        "\n",
        "# Ensure labels are sorted and unique\n",
        "class_labels = sorted(set(y))\n",
        "\n",
        "# Now call the function with y_pred defined\n",
        "plot_confusion_matrix(y_test, y_pred, class_labels)"
      ],
      "metadata": {
        "colab": {
          "base_uri": "https://localhost:8080/",
          "height": 569
        },
        "id": "EwVFCMXVmi-L",
        "outputId": "92e518df-397b-4e87-e249-663d5a5ebe12"
      },
      "execution_count": 8,
      "outputs": [
        {
          "output_type": "display_data",
          "data": {
            "text/plain": [
              "<Figure size 800x600 with 2 Axes>"
            ],
            "image/png": "[encoded data removed]"
          },
          "metadata": {}
        }
      ]
    },
    {
      "cell_type": "code",
      "source": [
        "print(\"Classification Report:\")\n",
        "print(classification_report(y_test, y_pred))\n"
      ],
      "metadata": {
        "colab": {
          "base_uri": "https://localhost:8080/"
        },
        "id": "J3BsTiuempSO",
        "outputId": "cd19dba6-d62f-448f-eef0-ea67b03f68da"
      },
      "execution_count": 9,
      "outputs": [
        {
          "output_type": "stream",
          "name": "stdout",
          "text": [
            "Classification Report:\n",
            "                    precision    recall  f1-score   support\n",
            "\n",
            "       Hate Speech       0.33      0.33      0.33       465\n",
            "            Normal       0.79      0.85      0.82      1379\n",
            "Offensive Language       0.93      0.92      0.92      6335\n",
            "\n",
            "          accuracy                           0.87      8179\n",
            "         macro avg       0.69      0.70      0.69      8179\n",
            "      weighted avg       0.87      0.87      0.87      8179\n",
            "\n"
          ]
        }
      ]
    }
  ]
}