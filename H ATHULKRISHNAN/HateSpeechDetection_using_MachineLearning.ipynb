{
  "nbformat": 4,
  "nbformat_minor": 0,
  "metadata": {
    "colab": {
      "provenance": [],
      "authorship_tag": "ABX9TyOHZhs/7nwcY8ouWs+3JEtB",
      "include_colab_link": true
    },
    "kernelspec": {
      "name": "python3",
      "display_name": "Python 3"
    },
    "language_info": {
      "name": "python"
    }
  },
  "cells": [
    {
      "cell_type": "markdown",
      "metadata": {
        "id": "view-in-github",
        "colab_type": "text"
      },
      "source": [
        "<a href=\"https://colab.research.google.com/github/springboardmentor891v/HATE_SPEECH_DETECTION_INFOSYS_INTERNSHIP_OCT2024/blob/main/HateSpeechDetection_using_MachineLearning.ipynb\" target=\"_parent\"><img src=\"https://colab.research.google.com/assets/colab-badge.svg\" alt=\"Open In Colab\"/></a>"
      ]
    },
    {
      "cell_type": "markdown",
      "source": [
        "## **Hate Speech Detection Using Machine Learning**"
      ],
      "metadata": {
        "id": "3dbLQH9xT3h9"
      }
    },
    {
      "cell_type": "code",
      "source": [
        "!pip install pandas scikit-learn nltk matplotlib seaborn"
      ],
      "metadata": {
        "id": "Z3hdfVIHiKlA",
        "collapsed": true
      },
      "execution_count": null,
      "outputs": []
    },
    {
      "cell_type": "code",
      "source": [
        "# Import Libraries\n",
        "import pandas as pd\n",
        "import numpy as np\n",
        "import string\n",
        "import re\n",
        "import nltk\n",
        "from nltk.corpus import stopwords\n",
        "from nltk.stem import PorterStemmer, WordNetLemmatizer\n",
        "from sklearn.model_selection import train_test_split, StratifiedKFold, cross_val_score, GridSearchCV\n",
        "from sklearn.metrics import accuracy_score, precision_score, recall_score, f1_score, classification_report\n",
        "from sklearn.linear_model import LogisticRegression\n",
        "from sklearn.ensemble import RandomForestClassifier, GradientBoostingClassifier, AdaBoostClassifier\n",
        "from sklearn.neighbors import KNeighborsClassifier\n",
        "from xgboost import XGBClassifier\n",
        "from sklearn.feature_extraction.text import TfidfVectorizer\n",
        "from imblearn.over_sampling import SMOTE\n",
        "import warnings\n",
        "from google.colab import files\n",
        "import matplotlib.pyplot as plt\n",
        "\n",
        "warnings.filterwarnings(\"ignore\")\n",
        "nltk.download('stopwords')\n",
        "nltk.download('wordnet')\n"
      ],
      "metadata": {
        "colab": {
          "base_uri": "https://localhost:8080/",
          "height": 0
        },
        "id": "yBR4qQmMqCYD",
        "outputId": "a1e73184-f5fb-4e94-e3bb-62cbd5fe5e0a",
        "collapsed": true
      },
      "execution_count": 1,
      "outputs": [
        {
          "output_type": "stream",
          "name": "stderr",
          "text": [
            "[nltk_data] Downloading package stopwords to /root/nltk_data...\n",
            "[nltk_data]   Unzipping corpora/stopwords.zip.\n",
            "[nltk_data] Downloading package wordnet to /root/nltk_data...\n"
          ]
        },
        {
          "output_type": "execute_result",
          "data": {
            "text/plain": [
              "True"
            ]
          },
          "metadata": {},
          "execution_count": 1
        }
      ]
    },
    {
      "cell_type": "markdown",
      "source": [
        "# **Upload Dataset**"
      ],
      "metadata": {
        "id": "nd7LzJn9X7Xg"
      }
    },
    {
      "cell_type": "code",
      "source": [
        "# Upload Raw Dataset\n",
        "uploaded = files.upload()\n",
        "\n",
        "# Retrieve the uploaded file path\n",
        "file_path = list(uploaded.keys())[0]\n",
        "\n",
        "# Load the raw dataset\n",
        "df = pd.read_csv(file_path, sep=',', names=['cleaned_text', 'label'], header=0)\n",
        "\n",
        "# Display the first few rows\n",
        "print(df.head())\n"
      ],
      "metadata": {
        "colab": {
          "base_uri": "https://localhost:8080/",
          "height": 177
        },
        "id": "yN4uFKkmqLVS",
        "outputId": "e52bcd3b-ea96-453d-b568-4040aa07beab"
      },
      "execution_count": 2,
      "outputs": [
        {
          "output_type": "display_data",
          "data": {
            "text/plain": [
              "<IPython.core.display.HTML object>"
            ],
            "text/html": [
              "\n",
              "     <input type=\"file\" id=\"files-1467e7c1-be24-4b32-87f6-25e7eb5d4a90\" name=\"files[]\" multiple disabled\n",
              "        style=\"border:none\" />\n",
              "     <output id=\"result-1467e7c1-be24-4b32-87f6-25e7eb5d4a90\">\n",
              "      Upload widget is only available when the cell has been executed in the\n",
              "      current browser session. Please rerun this cell to enable.\n",
              "      </output>\n",
              "      <script>// Copyright 2017 Google LLC\n",
              "//\n",
              "// Licensed under the Apache License, Version 2.0 (the \"License\");\n",
              "// you may not use this file except in compliance with the License.\n",
              "// You may obtain a copy of the License at\n",
              "//\n",
              "//      http://www.apache.org/licenses/LICENSE-2.0\n",
              "//\n",
              "// Unless required by applicable law or agreed to in writing, software\n",
              "// distributed under the License is distributed on an \"AS IS\" BASIS,\n",
              "// WITHOUT WARRANTIES OR CONDITIONS OF ANY KIND, either express or implied.\n",
              "// See the License for the specific language governing permissions and\n",
              "// limitations under the License.\n",
              "\n",
              "/**\n",
              " * @fileoverview Helpers for google.colab Python module.\n",
              " */\n",
              "(function(scope) {\n",
              "function span(text, styleAttributes = {}) {\n",
              "  const element = document.createElement('span');\n",
              "  element.textContent = text;\n",
              "  for (const key of Object.keys(styleAttributes)) {\n",
              "    element.style[key] = styleAttributes[key];\n",
              "  }\n",
              "  return element;\n",
              "}\n",
              "\n",
              "// Max number of bytes which will be uploaded at a time.\n",
              "const MAX_PAYLOAD_SIZE = 100 * 1024;\n",
              "\n",
              "function _uploadFiles(inputId, outputId) {\n",
              "  const steps = uploadFilesStep(inputId, outputId);\n",
              "  const outputElement = document.getElementById(outputId);\n",
              "  // Cache steps on the outputElement to make it available for the next call\n",
              "  // to uploadFilesContinue from Python.\n",
              "  outputElement.steps = steps;\n",
              "\n",
              "  return _uploadFilesContinue(outputId);\n",
              "}\n",
              "\n",
              "// This is roughly an async generator (not supported in the browser yet),\n",
              "// where there are multiple asynchronous steps and the Python side is going\n",
              "// to poll for completion of each step.\n",
              "// This uses a Promise to block the python side on completion of each step,\n",
              "// then passes the result of the previous step as the input to the next step.\n",
              "function _uploadFilesContinue(outputId) {\n",
              "  const outputElement = document.getElementById(outputId);\n",
              "  const steps = outputElement.steps;\n",
              "\n",
              "  const next = steps.next(outputElement.lastPromiseValue);\n",
              "  return Promise.resolve(next.value.promise).then((value) => {\n",
              "    // Cache the last promise value to make it available to the next\n",
              "    // step of the generator.\n",
              "    outputElement.lastPromiseValue = value;\n",
              "    return next.value.response;\n",
              "  });\n",
              "}\n",
              "\n",
              "/**\n",
              " * Generator function which is called between each async step of the upload\n",
              " * process.\n",
              " * @param {string} inputId Element ID of the input file picker element.\n",
              " * @param {string} outputId Element ID of the output display.\n",
              " * @return {!Iterable<!Object>} Iterable of next steps.\n",
              " */\n",
              "function* uploadFilesStep(inputId, outputId) {\n",
              "  const inputElement = document.getElementById(inputId);\n",
              "  inputElement.disabled = false;\n",
              "\n",
              "  const outputElement = document.getElementById(outputId);\n",
              "  outputElement.innerHTML = '';\n",
              "\n",
              "  const pickedPromise = new Promise((resolve) => {\n",
              "    inputElement.addEventListener('change', (e) => {\n",
              "      resolve(e.target.files);\n",
              "    });\n",
              "  });\n",
              "\n",
              "  const cancel = document.createElement('button');\n",
              "  inputElement.parentElement.appendChild(cancel);\n",
              "  cancel.textContent = 'Cancel upload';\n",
              "  const cancelPromise = new Promise((resolve) => {\n",
              "    cancel.onclick = () => {\n",
              "      resolve(null);\n",
              "    };\n",
              "  });\n",
              "\n",
              "  // Wait for the user to pick the files.\n",
              "  const files = yield {\n",
              "    promise: Promise.race([pickedPromise, cancelPromise]),\n",
              "    response: {\n",
              "      action: 'starting',\n",
              "    }\n",
              "  };\n",
              "\n",
              "  cancel.remove();\n",
              "\n",
              "  // Disable the input element since further picks are not allowed.\n",
              "  inputElement.disabled = true;\n",
              "\n",
              "  if (!files) {\n",
              "    return {\n",
              "      response: {\n",
              "        action: 'complete',\n",
              "      }\n",
              "    };\n",
              "  }\n",
              "\n",
              "  for (const file of files) {\n",
              "    const li = document.createElement('li');\n",
              "    li.append(span(file.name, {fontWeight: 'bold'}));\n",
              "    li.append(span(\n",
              "        `(${file.type || 'n/a'}) - ${file.size} bytes, ` +\n",
              "        `last modified: ${\n",
              "            file.lastModifiedDate ? file.lastModifiedDate.toLocaleDateString() :\n",
              "                                    'n/a'} - `));\n",
              "    const percent = span('0% done');\n",
              "    li.appendChild(percent);\n",
              "\n",
              "    outputElement.appendChild(li);\n",
              "\n",
              "    const fileDataPromise = new Promise((resolve) => {\n",
              "      const reader = new FileReader();\n",
              "      reader.onload = (e) => {\n",
              "        resolve(e.target.result);\n",
              "      };\n",
              "      reader.readAsArrayBuffer(file);\n",
              "    });\n",
              "    // Wait for the data to be ready.\n",
              "    let fileData = yield {\n",
              "      promise: fileDataPromise,\n",
              "      response: {\n",
              "        action: 'continue',\n",
              "      }\n",
              "    };\n",
              "\n",
              "    // Use a chunked sending to avoid message size limits. See b/62115660.\n",
              "    let position = 0;\n",
              "    do {\n",
              "      const length = Math.min(fileData.byteLength - position, MAX_PAYLOAD_SIZE);\n",
              "      const chunk = new Uint8Array(fileData, position, length);\n",
              "      position += length;\n",
              "\n",
              "      const base64 = btoa(String.fromCharCode.apply(null, chunk));\n",
              "      yield {\n",
              "        response: {\n",
              "          action: 'append',\n",
              "          file: file.name,\n",
              "          data: base64,\n",
              "        },\n",
              "      };\n",
              "\n",
              "      let percentDone = fileData.byteLength === 0 ?\n",
              "          100 :\n",
              "          Math.round((position / fileData.byteLength) * 100);\n",
              "      percent.textContent = `${percentDone}% done`;\n",
              "\n",
              "    } while (position < fileData.byteLength);\n",
              "  }\n",
              "\n",
              "  // All done.\n",
              "  yield {\n",
              "    response: {\n",
              "      action: 'complete',\n",
              "    }\n",
              "  };\n",
              "}\n",
              "\n",
              "scope.google = scope.google || {};\n",
              "scope.google.colab = scope.google.colab || {};\n",
              "scope.google.colab._files = {\n",
              "  _uploadFiles,\n",
              "  _uploadFilesContinue,\n",
              "};\n",
              "})(self);\n",
              "</script> "
            ]
          },
          "metadata": {}
        },
        {
          "output_type": "stream",
          "name": "stdout",
          "text": [
            "Saving hate_speech_combined_dataset.csv to hate_speech_combined_dataset.csv\n",
            "                                        cleaned_text  label\n",
            "0  !!! RT @mayasolovely: As a woman you shouldn't...      1\n",
            "1    \" momma said no pussy cats inside my doghouse \"      1\n",
            "2  \"@Addicted2Guys: -SimplyAddictedToGuys http://...      1\n",
            "3  \"@AllAboutManFeet: http://t.co/3gzUpfuMev\" woo...      1\n",
            "4  \"@Allyhaaaaa: Lemmie eat a Oreo &amp; do these...      1\n"
          ]
        }
      ]
    },
    {
      "cell_type": "markdown",
      "source": [
        "# **Dataset Preprocessing**"
      ],
      "metadata": {
        "id": "tzhqSjC9YK5t"
      }
    },
    {
      "cell_type": "code",
      "source": [
        "# Handle Missing Values\n",
        "df = df.dropna(subset=['label', 'cleaned_text'])  # Drop rows with missing values in either column\n",
        "\n",
        "# Display dataset info after handling missing values\n",
        "print(f\"Dataset shape after removing missing values: {df.shape}\")\n"
      ],
      "metadata": {
        "id": "IOcOv6LTqleE",
        "colab": {
          "base_uri": "https://localhost:8080/",
          "height": 0
        },
        "outputId": "9c2bebdc-6169-4202-f677-935f3895279b"
      },
      "execution_count": 3,
      "outputs": [
        {
          "output_type": "stream",
          "name": "stdout",
          "text": [
            "Dataset shape after removing missing values: (34621, 2)\n"
          ]
        }
      ]
    },
    {
      "cell_type": "code",
      "source": [
        "# Define Preprocessing Steps\n",
        "def preprocess_text(text):\n",
        "    # Lowercasing\n",
        "    text = text.lower()\n",
        "    # Removing Punctuation\n",
        "    text = text.translate(str.maketrans('', '', string.punctuation))\n",
        "    # Removing Stop Words\n",
        "    stop_words = set(stopwords.words('english'))\n",
        "    text = ' '.join(word for word in text.split() if word not in stop_words)\n",
        "    # Stemming\n",
        "    stemmer = PorterStemmer()\n",
        "    text = ' '.join(stemmer.stem(word) for word in text.split())\n",
        "    # Lemmatization\n",
        "    lemmatizer = WordNetLemmatizer()\n",
        "    text = ' '.join(lemmatizer.lemmatize(word) for word in text.split())\n",
        "    # Removing Numbers\n",
        "    text = re.sub(r'\\d+', '', text)\n",
        "    # Removing Whitespace\n",
        "    text = re.sub(r'\\s+', ' ', text).strip()\n",
        "    return text\n"
      ],
      "metadata": {
        "id": "3XtG_YUvqrws"
      },
      "execution_count": 4,
      "outputs": []
    },
    {
      "cell_type": "code",
      "source": [
        "# Apply Preprocessing\n",
        "df['cleaned_text'] = df['cleaned_text'].astype(str).apply(preprocess_text)\n",
        "\n",
        "# Display the first few rows after preprocessing\n",
        "print(df.head())\n"
      ],
      "metadata": {
        "id": "v4TuICcPqtl2",
        "colab": {
          "base_uri": "https://localhost:8080/",
          "height": 0
        },
        "outputId": "3e72be1e-6b96-4451-ca05-79bf589c8887"
      },
      "execution_count": 5,
      "outputs": [
        {
          "output_type": "stream",
          "name": "stdout",
          "text": [
            "                                        cleaned_text  label\n",
            "0  rt mayasolov woman shouldnt complain clean hou...      1\n",
            "1                 momma said pussi cat insid doghous      1\n",
            "2  addictedguy simplyaddictedtoguy httptcojlhizmf...      1\n",
            "3  allaboutmanfeet httptcogzupfumev woof woof hot...      1\n",
            "4    allyhaaaaa lemmi eat oreo amp dish one oreo lol      1\n"
          ]
        }
      ]
    },
    {
      "cell_type": "code",
      "source": [
        "# Check Class Distribution Before SMOTE\n",
        "print(\"Class Distribution Before SMOTE:\\n\", df['label'].value_counts())\n"
      ],
      "metadata": {
        "id": "ooTmxvk5rReW",
        "colab": {
          "base_uri": "https://localhost:8080/",
          "height": 0
        },
        "outputId": "db7c7bad-d660-4dba-8a72-1adc94a704ca"
      },
      "execution_count": 6,
      "outputs": [
        {
          "output_type": "stream",
          "name": "stdout",
          "text": [
            "Class Distribution Before SMOTE:\n",
            " label\n",
            "0    26627\n",
            "1     7994\n",
            "Name: count, dtype: int64\n"
          ]
        }
      ]
    },
    {
      "cell_type": "code",
      "source": [
        "# Separate Features and Target\n",
        "X = df['cleaned_text']\n",
        "y = df['label']\n",
        "\n",
        "# Convert text data to numeric features using TF-IDF\n",
        "vectorizer = TfidfVectorizer(max_features=5000)  # Setting features to 5000\n",
        "X_tfidf = vectorizer.fit_transform(X)\n",
        "\n",
        "print(\"TF-IDF vectorization complete. Shape of X_tfidf:\", X_tfidf.shape)\n"
      ],
      "metadata": {
        "id": "D2cVjinTrVQb",
        "colab": {
          "base_uri": "https://localhost:8080/",
          "height": 0
        },
        "outputId": "81a16294-fa64-4d2f-a01d-6f6043a06618"
      },
      "execution_count": 7,
      "outputs": [
        {
          "output_type": "stream",
          "name": "stdout",
          "text": [
            "TF-IDF vectorization complete. Shape of X_tfidf: (34621, 5000)\n"
          ]
        }
      ]
    },
    {
      "cell_type": "code",
      "source": [
        "# Apply SMOTE to Balance the Classes\n",
        "smote = SMOTE(random_state=42)\n",
        "X_smote, y_smote = smote.fit_resample(X_tfidf, y)\n",
        "\n",
        "# Check class distribution after SMOTE\n",
        "print(\"\\nClass Distribution After SMOTE:\\n\", pd.Series(y_smote).value_counts())\n"
      ],
      "metadata": {
        "id": "FpuT5loOraY7",
        "colab": {
          "base_uri": "https://localhost:8080/",
          "height": 0
        },
        "outputId": "84c18a96-eff6-4dd2-c5b8-327ecd4994c8"
      },
      "execution_count": 8,
      "outputs": [
        {
          "output_type": "stream",
          "name": "stdout",
          "text": [
            "\n",
            "Class Distribution After SMOTE:\n",
            " label\n",
            "1    26627\n",
            "0    26627\n",
            "Name: count, dtype: int64\n"
          ]
        }
      ]
    },
    {
      "cell_type": "code",
      "source": [
        "# Match Resampled Data with Original Text\n",
        "augmented_data = []\n",
        "\n",
        "for label in [0, 1]:  # Iterate over class labels\n",
        "    original_data = df[df['label'] == label]\n",
        "    sampled_data = original_data.sample(n=(y_smote == label).sum(), replace=True)\n",
        "    augmented_data.append(sampled_data)\n",
        "\n",
        "# Combine sampled data for both classes\n",
        "cleaned_df = pd.concat(augmented_data, ignore_index=True)\n",
        "\n",
        "# Display the first few rows of the balanced dataset\n",
        "print(\"\\nBalanced Dataset Shape:\", cleaned_df.shape)\n",
        "print(\"Class Distribution After Augmentation:\\n\", cleaned_df['label'].value_counts())\n"
      ],
      "metadata": {
        "id": "vws64BY5rjpb",
        "colab": {
          "base_uri": "https://localhost:8080/",
          "height": 0
        },
        "outputId": "b77dc144-f6ab-4296-ad1e-298207c5f73b"
      },
      "execution_count": 9,
      "outputs": [
        {
          "output_type": "stream",
          "name": "stdout",
          "text": [
            "\n",
            "Balanced Dataset Shape: (53254, 2)\n",
            "Class Distribution After Augmentation:\n",
            " label\n",
            "0    26627\n",
            "1    26627\n",
            "Name: count, dtype: int64\n"
          ]
        }
      ]
    },
    {
      "cell_type": "code",
      "source": [
        "\n",
        "# Assuming `cleaned_df` contains your balanced dataset\n",
        "\n",
        "# Save the balanced dataset with the desired name\n",
        "balanced_dataset_path = \"cleaned_balanced_dataset.csv\"\n",
        "cleaned_df.to_csv(balanced_dataset_path, index=False)\n",
        "\n",
        "# Provide a download link if you're working in Google Colab or Jupyter Notebook\n",
        "try:\n",
        "    from google.colab import files\n",
        "    files.download(balanced_dataset_path)\n",
        "except ImportError:\n",
        "    print(f\"The file has been saved locally as {balanced_dataset_path}.\")\n"
      ],
      "metadata": {
        "id": "FP7EMjxxqcsr"
      },
      "execution_count": null,
      "outputs": []
    },
    {
      "cell_type": "code",
      "source": [
        "# printing random texts\n",
        "print(cleaned_df['cleaned_text'].iloc[1],\"\\n\")\n",
        "print(cleaned_df['cleaned_text'].iloc[0],\"\\n\")\n",
        "print(cleaned_df['cleaned_text'].iloc[2],\"\\n\")\n",
        "print(cleaned_df['cleaned_text'].iloc[3],\"\\n\")\n",
        "print(cleaned_df['cleaned_text'].iloc[4],\"\\n\")"
      ],
      "metadata": {
        "id": "Dq4AwStdrmCY",
        "colab": {
          "base_uri": "https://localhost:8080/",
          "height": 0
        },
        "outputId": "81681286-428f-4220-dfee-46d0ed4566ee"
      },
      "execution_count": 10,
      "outputs": [
        {
          "output_type": "stream",
          "name": "stdout",
          "text": [
            "coon \n",
            "\n",
            "yeah retard cunt \n",
            "\n",
            "qonaqkend httpstwittercomunclesamcocostatusphoto \n",
            "\n",
            "im huge fan overtli express think towelhead welcom countri \n",
            "\n",
            "lie as hoe lol \n",
            "\n"
          ]
        }
      ]
    },
    {
      "cell_type": "code",
      "source": [
        "# cleaned_df = pd.read_csv('cleaned_balanced_dataset.csv')"
      ],
      "metadata": {
        "id": "lG68gBrTsJ3y"
      },
      "execution_count": null,
      "outputs": []
    },
    {
      "cell_type": "code",
      "source": [
        "cleaned_df.head()"
      ],
      "metadata": {
        "colab": {
          "base_uri": "https://localhost:8080/",
          "height": 206
        },
        "id": "MuoVm8iGtAVo",
        "outputId": "89c6c023-549d-4ae4-9cb1-1971f6e20cc1"
      },
      "execution_count": 11,
      "outputs": [
        {
          "output_type": "execute_result",
          "data": {
            "text/plain": [
              "                                        cleaned_text  label\n",
              "0                                   yeah retard cunt      0\n",
              "1                                               coon      0\n",
              "2   qonaqkend httpstwittercomunclesamcocostatusphoto      0\n",
              "3  im huge fan overtli express think towelhead we...      0\n",
              "4                                     lie as hoe lol      0"
            ],
            "text/html": [
              "\n",
              "  <div id=\"df-61e29cb1-47a7-4c68-b151-f77c9b907ba8\" class=\"colab-df-container\">\n",
              "    <div>\n",
              "<style scoped>\n",
              "    .dataframe tbody tr th:only-of-type {\n",
              "        vertical-align: middle;\n",
              "    }\n",
              "\n",
              "    .dataframe tbody tr th {\n",
              "        vertical-align: top;\n",
              "    }\n",
              "\n",
              "    .dataframe thead th {\n",
              "        text-align: right;\n",
              "    }\n",
              "</style>\n",
              "<table border=\"1\" class=\"dataframe\">\n",
              "  <thead>\n",
              "    <tr style=\"text-align: right;\">\n",
              "      <th></th>\n",
              "      <th>cleaned_text</th>\n",
              "      <th>label</th>\n",
              "    </tr>\n",
              "  </thead>\n",
              "  <tbody>\n",
              "    <tr>\n",
              "      <th>0</th>\n",
              "      <td>yeah retard cunt</td>\n",
              "      <td>0</td>\n",
              "    </tr>\n",
              "    <tr>\n",
              "      <th>1</th>\n",
              "      <td>coon</td>\n",
              "      <td>0</td>\n",
              "    </tr>\n",
              "    <tr>\n",
              "      <th>2</th>\n",
              "      <td>qonaqkend httpstwittercomunclesamcocostatusphoto</td>\n",
              "      <td>0</td>\n",
              "    </tr>\n",
              "    <tr>\n",
              "      <th>3</th>\n",
              "      <td>im huge fan overtli express think towelhead we...</td>\n",
              "      <td>0</td>\n",
              "    </tr>\n",
              "    <tr>\n",
              "      <th>4</th>\n",
              "      <td>lie as hoe lol</td>\n",
              "      <td>0</td>\n",
              "    </tr>\n",
              "  </tbody>\n",
              "</table>\n",
              "</div>\n",
              "    <div class=\"colab-df-buttons\">\n",
              "\n",
              "  <div class=\"colab-df-container\">\n",
              "    <button class=\"colab-df-convert\" onclick=\"convertToInteractive('df-61e29cb1-47a7-4c68-b151-f77c9b907ba8')\"\n",
              "            title=\"Convert this dataframe to an interactive table.\"\n",
              "            style=\"display:none;\">\n",
              "\n",
              "  <svg xmlns=\"http://www.w3.org/2000/svg\" height=\"24px\" viewBox=\"0 -960 960 960\">\n",
              "    <path d=\"M120-120v-720h720v720H120Zm60-500h600v-160H180v160Zm220 220h160v-160H400v160Zm0 220h160v-160H400v160ZM180-400h160v-160H180v160Zm440 0h160v-160H620v160ZM180-180h160v-160H180v160Zm440 0h160v-160H620v160Z\"/>\n",
              "  </svg>\n",
              "    </button>\n",
              "\n",
              "  <style>\n",
              "    .colab-df-container {\n",
              "      display:flex;\n",
              "      gap: 12px;\n",
              "    }\n",
              "\n",
              "    .colab-df-convert {\n",
              "      background-color: #E8F0FE;\n",
              "      border: none;\n",
              "      border-radius: 50%;\n",
              "      cursor: pointer;\n",
              "      display: none;\n",
              "      fill: #1967D2;\n",
              "      height: 32px;\n",
              "      padding: 0 0 0 0;\n",
              "      width: 32px;\n",
              "    }\n",
              "\n",
              "    .colab-df-convert:hover {\n",
              "      background-color: #E2EBFA;\n",
              "      box-shadow: 0px 1px 2px rgba(60, 64, 67, 0.3), 0px 1px 3px 1px rgba(60, 64, 67, 0.15);\n",
              "      fill: #174EA6;\n",
              "    }\n",
              "\n",
              "    .colab-df-buttons div {\n",
              "      margin-bottom: 4px;\n",
              "    }\n",
              "\n",
              "    [theme=dark] .colab-df-convert {\n",
              "      background-color: #3B4455;\n",
              "      fill: #D2E3FC;\n",
              "    }\n",
              "\n",
              "    [theme=dark] .colab-df-convert:hover {\n",
              "      background-color: #434B5C;\n",
              "      box-shadow: 0px 1px 3px 1px rgba(0, 0, 0, 0.15);\n",
              "      filter: drop-shadow(0px 1px 2px rgba(0, 0, 0, 0.3));\n",
              "      fill: #FFFFFF;\n",
              "    }\n",
              "  </style>\n",
              "\n",
              "    <script>\n",
              "      const buttonEl =\n",
              "        document.querySelector('#df-61e29cb1-47a7-4c68-b151-f77c9b907ba8 button.colab-df-convert');\n",
              "      buttonEl.style.display =\n",
              "        google.colab.kernel.accessAllowed ? 'block' : 'none';\n",
              "\n",
              "      async function convertToInteractive(key) {\n",
              "        const element = document.querySelector('#df-61e29cb1-47a7-4c68-b151-f77c9b907ba8');\n",
              "        const dataTable =\n",
              "          await google.colab.kernel.invokeFunction('convertToInteractive',\n",
              "                                                    [key], {});\n",
              "        if (!dataTable) return;\n",
              "\n",
              "        const docLinkHtml = 'Like what you see? Visit the ' +\n",
              "          '<a target=\"_blank\" href=https://colab.research.google.com/notebooks/data_table.ipynb>data table notebook</a>'\n",
              "          + ' to learn more about interactive tables.';\n",
              "        element.innerHTML = '';\n",
              "        dataTable['output_type'] = 'display_data';\n",
              "        await google.colab.output.renderOutput(dataTable, element);\n",
              "        const docLink = document.createElement('div');\n",
              "        docLink.innerHTML = docLinkHtml;\n",
              "        element.appendChild(docLink);\n",
              "      }\n",
              "    </script>\n",
              "  </div>\n",
              "\n",
              "\n",
              "<div id=\"df-5e5e5a92-3e7c-496e-aa2e-cff3845ca566\">\n",
              "  <button class=\"colab-df-quickchart\" onclick=\"quickchart('df-5e5e5a92-3e7c-496e-aa2e-cff3845ca566')\"\n",
              "            title=\"Suggest charts\"\n",
              "            style=\"display:none;\">\n",
              "\n",
              "<svg xmlns=\"http://www.w3.org/2000/svg\" height=\"24px\"viewBox=\"0 0 24 24\"\n",
              "     width=\"24px\">\n",
              "    <g>\n",
              "        <path d=\"M19 3H5c-1.1 0-2 .9-2 2v14c0 1.1.9 2 2 2h14c1.1 0 2-.9 2-2V5c0-1.1-.9-2-2-2zM9 17H7v-7h2v7zm4 0h-2V7h2v10zm4 0h-2v-4h2v4z\"/>\n",
              "    </g>\n",
              "</svg>\n",
              "  </button>\n",
              "\n",
              "<style>\n",
              "  .colab-df-quickchart {\n",
              "      --bg-color: #E8F0FE;\n",
              "      --fill-color: #1967D2;\n",
              "      --hover-bg-color: #E2EBFA;\n",
              "      --hover-fill-color: #174EA6;\n",
              "      --disabled-fill-color: #AAA;\n",
              "      --disabled-bg-color: #DDD;\n",
              "  }\n",
              "\n",
              "  [theme=dark] .colab-df-quickchart {\n",
              "      --bg-color: #3B4455;\n",
              "      --fill-color: #D2E3FC;\n",
              "      --hover-bg-color: #434B5C;\n",
              "      --hover-fill-color: #FFFFFF;\n",
              "      --disabled-bg-color: #3B4455;\n",
              "      --disabled-fill-color: #666;\n",
              "  }\n",
              "\n",
              "  .colab-df-quickchart {\n",
              "    background-color: var(--bg-color);\n",
              "    border: none;\n",
              "    border-radius: 50%;\n",
              "    cursor: pointer;\n",
              "    display: none;\n",
              "    fill: var(--fill-color);\n",
              "    height: 32px;\n",
              "    padding: 0;\n",
              "    width: 32px;\n",
              "  }\n",
              "\n",
              "  .colab-df-quickchart:hover {\n",
              "    background-color: var(--hover-bg-color);\n",
              "    box-shadow: 0 1px 2px rgba(60, 64, 67, 0.3), 0 1px 3px 1px rgba(60, 64, 67, 0.15);\n",
              "    fill: var(--button-hover-fill-color);\n",
              "  }\n",
              "\n",
              "  .colab-df-quickchart-complete:disabled,\n",
              "  .colab-df-quickchart-complete:disabled:hover {\n",
              "    background-color: var(--disabled-bg-color);\n",
              "    fill: var(--disabled-fill-color);\n",
              "    box-shadow: none;\n",
              "  }\n",
              "\n",
              "  .colab-df-spinner {\n",
              "    border: 2px solid var(--fill-color);\n",
              "    border-color: transparent;\n",
              "    border-bottom-color: var(--fill-color);\n",
              "    animation:\n",
              "      spin 1s steps(1) infinite;\n",
              "  }\n",
              "\n",
              "  @keyframes spin {\n",
              "    0% {\n",
              "      border-color: transparent;\n",
              "      border-bottom-color: var(--fill-color);\n",
              "      border-left-color: var(--fill-color);\n",
              "    }\n",
              "    20% {\n",
              "      border-color: transparent;\n",
              "      border-left-color: var(--fill-color);\n",
              "      border-top-color: var(--fill-color);\n",
              "    }\n",
              "    30% {\n",
              "      border-color: transparent;\n",
              "      border-left-color: var(--fill-color);\n",
              "      border-top-color: var(--fill-color);\n",
              "      border-right-color: var(--fill-color);\n",
              "    }\n",
              "    40% {\n",
              "      border-color: transparent;\n",
              "      border-right-color: var(--fill-color);\n",
              "      border-top-color: var(--fill-color);\n",
              "    }\n",
              "    60% {\n",
              "      border-color: transparent;\n",
              "      border-right-color: var(--fill-color);\n",
              "    }\n",
              "    80% {\n",
              "      border-color: transparent;\n",
              "      border-right-color: var(--fill-color);\n",
              "      border-bottom-color: var(--fill-color);\n",
              "    }\n",
              "    90% {\n",
              "      border-color: transparent;\n",
              "      border-bottom-color: var(--fill-color);\n",
              "    }\n",
              "  }\n",
              "</style>\n",
              "\n",
              "  <script>\n",
              "    async function quickchart(key) {\n",
              "      const quickchartButtonEl =\n",
              "        document.querySelector('#' + key + ' button');\n",
              "      quickchartButtonEl.disabled = true;  // To prevent multiple clicks.\n",
              "      quickchartButtonEl.classList.add('colab-df-spinner');\n",
              "      try {\n",
              "        const charts = await google.colab.kernel.invokeFunction(\n",
              "            'suggestCharts', [key], {});\n",
              "      } catch (error) {\n",
              "        console.error('Error during call to suggestCharts:', error);\n",
              "      }\n",
              "      quickchartButtonEl.classList.remove('colab-df-spinner');\n",
              "      quickchartButtonEl.classList.add('colab-df-quickchart-complete');\n",
              "    }\n",
              "    (() => {\n",
              "      let quickchartButtonEl =\n",
              "        document.querySelector('#df-5e5e5a92-3e7c-496e-aa2e-cff3845ca566 button');\n",
              "      quickchartButtonEl.style.display =\n",
              "        google.colab.kernel.accessAllowed ? 'block' : 'none';\n",
              "    })();\n",
              "  </script>\n",
              "</div>\n",
              "\n",
              "    </div>\n",
              "  </div>\n"
            ],
            "application/vnd.google.colaboratory.intrinsic+json": {
              "type": "dataframe",
              "variable_name": "cleaned_df",
              "summary": "{\n  \"name\": \"cleaned_df\",\n  \"rows\": 53254,\n  \"fields\": [\n    {\n      \"column\": \"cleaned_text\",\n      \"properties\": {\n        \"dtype\": \"category\",\n        \"num_unique_values\": 24254,\n        \"samples\": [\n          \"hoe ima treat like one like your good girl ima treat like one dont discrimin\",\n          \"hot chocol famou amo bomb right\",\n          \"jesstoth could get match burner phone ghetto fab month\"\n        ],\n        \"semantic_type\": \"\",\n        \"description\": \"\"\n      }\n    },\n    {\n      \"column\": \"label\",\n      \"properties\": {\n        \"dtype\": \"number\",\n        \"std\": 0,\n        \"min\": 0,\n        \"max\": 1,\n        \"num_unique_values\": 2,\n        \"samples\": [\n          1,\n          0\n        ],\n        \"semantic_type\": \"\",\n        \"description\": \"\"\n      }\n    }\n  ]\n}"
            }
          },
          "metadata": {},
          "execution_count": 11
        }
      ]
    },
    {
      "cell_type": "code",
      "source": [
        "cleaned_df['label'].value_counts()"
      ],
      "metadata": {
        "colab": {
          "base_uri": "https://localhost:8080/",
          "height": 178
        },
        "id": "Z0hdsFlBtuKA",
        "outputId": "7999619e-ac71-4db6-824d-19842a13a12b"
      },
      "execution_count": 12,
      "outputs": [
        {
          "output_type": "execute_result",
          "data": {
            "text/plain": [
              "label\n",
              "0    26627\n",
              "1    26627\n",
              "Name: count, dtype: int64"
            ],
            "text/html": [
              "<div>\n",
              "<style scoped>\n",
              "    .dataframe tbody tr th:only-of-type {\n",
              "        vertical-align: middle;\n",
              "    }\n",
              "\n",
              "    .dataframe tbody tr th {\n",
              "        vertical-align: top;\n",
              "    }\n",
              "\n",
              "    .dataframe thead th {\n",
              "        text-align: right;\n",
              "    }\n",
              "</style>\n",
              "<table border=\"1\" class=\"dataframe\">\n",
              "  <thead>\n",
              "    <tr style=\"text-align: right;\">\n",
              "      <th></th>\n",
              "      <th>count</th>\n",
              "    </tr>\n",
              "    <tr>\n",
              "      <th>label</th>\n",
              "      <th></th>\n",
              "    </tr>\n",
              "  </thead>\n",
              "  <tbody>\n",
              "    <tr>\n",
              "      <th>0</th>\n",
              "      <td>26627</td>\n",
              "    </tr>\n",
              "    <tr>\n",
              "      <th>1</th>\n",
              "      <td>26627</td>\n",
              "    </tr>\n",
              "  </tbody>\n",
              "</table>\n",
              "</div><br><label><b>dtype:</b> int64</label>"
            ]
          },
          "metadata": {},
          "execution_count": 12
        }
      ]
    },
    {
      "cell_type": "code",
      "source": [
        "# Create a pie chart to visualize the class distribution in the cleaned dataset\n",
        "fig = plt.figure(figsize=(5,5))  # Set the figure size\n",
        "\n",
        "# Define pie chart properties\n",
        "colors = (\"red\", \"gold\")  # Segment colors\n",
        "wp = {'linewidth': 2, 'edgecolor': \"black\"}  # Wedge properties (style)\n",
        "explode = (0.1, 0.1)  # Offset slices for emphasis\n",
        "\n",
        "# Plot the class distribution as a pie chart\n",
        "tags = cleaned_df['label'].value_counts()  # Count the samples for each class\n",
        "tags.plot(kind='pie', autopct='%1.1f%%', shadow=True, colors=colors,\n",
        "          startangle=90, wedgeprops=wp, explode=explode, label='')\n",
        "\n",
        "# Add a title for context\n",
        "plt.title('Distribution of Data')\n"
      ],
      "metadata": {
        "colab": {
          "base_uri": "https://localhost:8080/",
          "height": 461
        },
        "id": "KORUztDWtGDg",
        "outputId": "b7dbe131-ea5e-46bf-e75a-cd7fea3b5c8b"
      },
      "execution_count": 14,
      "outputs": [
        {
          "output_type": "execute_result",
          "data": {
            "text/plain": [
              "Text(0.5, 1.0, 'Distribution of Data')"
            ]
          },
          "metadata": {},
          "execution_count": 14
        },
        {
          "output_type": "display_data",
          "data": {
            "text/plain": [
              "<Figure size 500x500 with 1 Axes>"
            ],
            "image/png": "[encoded data removed]"
          },
          "metadata": {}
        }
      ]
    },
    {
      "cell_type": "markdown",
      "source": [
        "# **Model Training**\n",
        "\n",
        "Trained the model using ML algorithms: Logistic Regression, Random Forest, K-Nearest Neighbors (KNN), XGBoost, and AdaBoost."
      ],
      "metadata": {
        "id": "etfF0VRh-m_y"
      }
    },
    {
      "cell_type": "code",
      "source": [
        "\n",
        "# Splitting dataset into features (X) and labels (y)\n",
        "X = cleaned_df['cleaned_text']\n",
        "y = cleaned_df['label']\n",
        "\n",
        "# Text vectorization using TfidfVectorizer\n",
        "tfidf = TfidfVectorizer(max_features=3000, ngram_range=(1, 2))  # Include bi-grams and\n",
        "X_vectorized = tfidf.fit_transform(X).toarray()\n",
        "\n",
        "# Splitting data into training and test sets\n",
        "X_train, X_test, y_train, y_test = train_test_split(X_vectorized, y, test_size=0.2, random_state=42)\n",
        "\n",
        "# Dictionary to store models and their performance\n",
        "# Optimized models with tuned hyperparameters\n",
        "models = {\n",
        "    \"Logistic Regression\": LogisticRegression(C=10),  # Regularization\n",
        "    \"Random Forest\": RandomForestClassifier(\n",
        "        n_estimators=300,  # More trees\n",
        "        max_depth=30,      # Deeper trees\n",
        "        min_samples_split=5,\n",
        "        min_samples_leaf=2,\n",
        "        random_state=42\n",
        "    ),\n",
        "    \"K-Nearest Neighbors\": KNeighborsClassifier(n_neighbors=7),  # Increased neighbors for smoother predictions\n",
        "    \"XGBoost\": XGBClassifier(\n",
        "        n_estimators=100,  # More estimators\n",
        "        max_depth=10,      # Deeper trees\n",
        "        learning_rate=0.1,\n",
        "        use_label_encoder=False,\n",
        "        eval_metric=\"logloss\",\n",
        "        random_state=42\n",
        "    ),\n",
        "    \"AdaBoost\": AdaBoostClassifier(\n",
        "        n_estimators=100,  # More estimators\n",
        "        learning_rate=0.5, # Slightly lower learning rate for stability\n",
        "        random_state=42\n",
        "    )\n",
        "}\n",
        "\n",
        "# Training and evaluating models with both training and testing accuracy\n",
        "results = []\n",
        "\n",
        "for model_name, model in models.items():\n",
        "    print(f\"Training {model_name}...\")\n",
        "\n",
        "    # Using cross-validation to evaluate the model\n",
        "    cv_scores = cross_val_score(model, X_train, y_train, cv=5)  # 5-fold cross-validation\n",
        "    print(f\"Cross-validation scores: {cv_scores}\")\n",
        "    print(f\"Mean CV score: {cv_scores.mean()}\")\n",
        "\n",
        "    # Fit the model to training data\n",
        "    model.fit(X_train, y_train)\n",
        "\n",
        "    # Training accuracy\n",
        "    y_train_pred = model.predict(X_train)\n",
        "    train_accuracy = accuracy_score(y_train, y_train_pred)\n",
        "\n",
        "    # Testing accuracy\n",
        "    y_test_pred = model.predict(X_test)\n",
        "    test_accuracy = accuracy_score(y_test, y_test_pred)\n",
        "\n",
        "    # Precision, recall, F1 score on testing data\n",
        "    precision = precision_score(y_test, y_test_pred)\n",
        "    recall = recall_score(y_test, y_test_pred)\n",
        "    f1 = f1_score(y_test, y_test_pred)\n",
        "\n",
        "    print(f\"\\n{model_name} Metrics:\")\n",
        "    print(f\"Training Accuracy: {train_accuracy:.4f}\")\n",
        "    print(f\"Testing Accuracy: {test_accuracy:.4f}\")\n",
        "    print(f\"Precision: {precision:.4f}\")\n",
        "    print(f\"Recall: {recall:.4f}\")\n",
        "    print(f\"F1 Score: {f1:.4f}\")\n",
        "    print(\"=\"*50)\n",
        "\n",
        "    # Append results for visualization\n",
        "    results.append({\n",
        "        \"Model\": model_name,\n",
        "        \"Training Accuracy\": train_accuracy,\n",
        "        \"Testing Accuracy\": test_accuracy,\n",
        "        \"Precision\": precision,\n",
        "        \"Recall\": recall,\n",
        "        \"F1 Score\": f1\n",
        "    })\n",
        "\n",
        "# Convert results to DataFrame for better visualization\n",
        "results_df = pd.DataFrame(results)\n",
        "\n",
        "# Display results\n",
        "print(results_df)\n",
        "\n"
      ],
      "metadata": {
        "colab": {
          "base_uri": "https://localhost:8080/",
          "height": 0
        },
        "id": "95LKKfOBEp_K",
        "outputId": "2b64be5d-054e-42cb-99c8-d25046bfa4c5"
      },
      "execution_count": 17,
      "outputs": [
        {
          "output_type": "stream",
          "name": "stdout",
          "text": [
            "Training Logistic Regression...\n",
            "Cross-validation scores: [0.92852952 0.92512616 0.92512616 0.92875587 0.93497653]\n",
            "Mean CV score: 0.9285028454968751\n",
            "\n",
            "Logistic Regression Metrics:\n",
            "Training Accuracy: 0.9472\n",
            "Testing Accuracy: 0.9307\n",
            "Precision: 0.9356\n",
            "Recall: 0.9258\n",
            "F1 Score: 0.9307\n",
            "==================================================\n",
            "Training Random Forest...\n",
            "Cross-validation scores: [0.86633024 0.8697336  0.86762117 0.87535211 0.87300469]\n",
            "Mean CV score: 0.8704083642015611\n",
            "\n",
            "Random Forest Metrics:\n",
            "Training Accuracy: 0.8838\n",
            "Testing Accuracy: 0.8716\n",
            "Precision: 0.9405\n",
            "Recall: 0.7947\n",
            "F1 Score: 0.8615\n",
            "==================================================\n",
            "Training K-Nearest Neighbors...\n",
            "Cross-validation scores: [0.80600868 0.83206196 0.82818918 0.81995305 0.82676056]\n",
            "Mean CV score: 0.8225946887364163\n",
            "\n",
            "K-Nearest Neighbors Metrics:\n",
            "Training Accuracy: 0.9214\n",
            "Testing Accuracy: 0.8625\n",
            "Precision: 0.9442\n",
            "Recall: 0.7719\n",
            "F1 Score: 0.8494\n",
            "==================================================\n",
            "Training XGBoost...\n",
            "Cross-validation scores: [0.87724445 0.87607088 0.88017838 0.88861502 0.88568075]\n",
            "Mean CV score: 0.8815578992084181\n",
            "\n",
            "XGBoost Metrics:\n",
            "Training Accuracy: 0.8913\n",
            "Testing Accuracy: 0.8853\n",
            "Precision: 0.9581\n",
            "Recall: 0.8070\n",
            "F1 Score: 0.8761\n",
            "==================================================\n",
            "Training AdaBoost...\n",
            "Cross-validation scores: [0.86128389 0.85846732 0.85201267 0.86584507 0.86126761]\n",
            "Mean CV score: 0.8597753107071014\n",
            "\n",
            "AdaBoost Metrics:\n",
            "Training Accuracy: 0.8608\n",
            "Testing Accuracy: 0.8605\n",
            "Precision: 0.9423\n",
            "Recall: 0.7695\n",
            "F1 Score: 0.8472\n",
            "==================================================\n",
            "                 Model  Training Accuracy  Testing Accuracy  Precision  \\\n",
            "0  Logistic Regression           0.947163          0.930711   0.935624   \n",
            "1        Random Forest           0.883811          0.871561   0.940526   \n",
            "2  K-Nearest Neighbors           0.921391          0.862454   0.944241   \n",
            "3              XGBoost           0.891299          0.885269   0.958084   \n",
            "4             AdaBoost           0.860808          0.860483   0.942347   \n",
            "\n",
            "     Recall  F1 Score  \n",
            "0  0.925836  0.930704  \n",
            "1  0.794695  0.861482  \n",
            "2  0.771904  0.849419  \n",
            "3  0.807024  0.876090  \n",
            "4  0.769475  0.847182  \n"
          ]
        }
      ]
    },
    {
      "cell_type": "code",
      "source": [
        "import joblib\n",
        "\n",
        "# Save the vectorizer\n",
        "joblib.dump(tfidf, \"tfidf_vectorizer.pkl\")\n"
      ],
      "metadata": {
        "id": "J7iHnGeS5lW6",
        "colab": {
          "base_uri": "https://localhost:8080/",
          "height": 0
        },
        "outputId": "d20969f7-828f-4332-917e-096b466227ca"
      },
      "execution_count": 18,
      "outputs": [
        {
          "output_type": "execute_result",
          "data": {
            "text/plain": [
              "['tfidf_vectorizer.pkl']"
            ]
          },
          "metadata": {},
          "execution_count": 18
        }
      ]
    },
    {
      "cell_type": "markdown",
      "source": [
        "# **Results**"
      ],
      "metadata": {
        "id": "QMVTwEovaUWa"
      }
    },
    {
      "cell_type": "code",
      "source": [
        "# Create a separate cell to display accuracy metrics as percentages\n",
        "accuracy_metrics = results_df[[\"Model\", \"Training Accuracy\", \"Testing Accuracy\"]]\n",
        "\n",
        "# Convert the accuracy columns to percentages\n",
        "accuracy_metrics[\"Training Accuracy\"] = accuracy_metrics[\"Training Accuracy\"] * 100\n",
        "accuracy_metrics[\"Testing Accuracy\"] = accuracy_metrics[\"Testing Accuracy\"] * 100\n",
        "\n",
        "# Print the results as percentages\n",
        "accuracy_metrics = accuracy_metrics.round({\"Training Accuracy\": 2, \"Testing Accuracy\": 2})\n",
        "print(accuracy_metrics)\n"
      ],
      "metadata": {
        "colab": {
          "base_uri": "https://localhost:8080/"
        },
        "id": "FH3aAQEbaEJt",
        "outputId": "c7a75882-99bb-47e3-a9bb-cf50e3cf0f44"
      },
      "execution_count": 43,
      "outputs": [
        {
          "output_type": "stream",
          "name": "stdout",
          "text": [
            "                 Model  Training Accuracy  Testing Accuracy\n",
            "0  Logistic Regression              94.72             93.07\n",
            "1        Random Forest              88.38             87.16\n",
            "2  K-Nearest Neighbors              92.14             86.25\n",
            "3              XGBoost              89.13             88.53\n",
            "4             AdaBoost              86.08             86.05\n"
          ]
        }
      ]
    },
    {
      "cell_type": "code",
      "source": [
        "# Set up figure and axes\n",
        "fig, axes = plt.subplots(1, 2, figsize=(20, 6))\n",
        "\n",
        "# Plot the training accuracy\n",
        "axes[0].bar(results_df[\"Model\"], results_df[\"Training Accuracy\"], color=\"skyblue\")\n",
        "axes[0].set_title(\"Training Accuracy\")\n",
        "axes[0].set_ylabel(\"Accuracy\")\n",
        "axes[0].set_xticklabels(results_df[\"Model\"], rotation=45)\n",
        "\n",
        "# Plot the testing accuracy\n",
        "axes[1].bar(results_df[\"Model\"], results_df[\"Testing Accuracy\"], color=\"lightgreen\")\n",
        "axes[1].set_title(\"Testing Accuracy\")\n",
        "axes[1].set_ylabel(\"Accuracy\")\n",
        "axes[1].set_xticklabels(results_df[\"Model\"], rotation=45)\n",
        "\n",
        "\n",
        "# Improve layout\n",
        "plt.tight_layout()\n",
        "\n",
        "# Show the plot\n",
        "plt.show()"
      ],
      "metadata": {
        "colab": {
          "base_uri": "https://localhost:8080/",
          "height": 360
        },
        "id": "7larE0wmY-ib",
        "outputId": "2f168cbd-9c5f-4989-9633-95f81333fa63"
      },
      "execution_count": 42,
      "outputs": [
        {
          "output_type": "display_data",
          "data": {
            "text/plain": [
              "<Figure size 2000x600 with 2 Axes>"
            ],
            "image/png": "[encoded data removed]"
          },
          "metadata": {}
        }
      ]
    },
    {
      "cell_type": "markdown",
      "source": [
        "# **Identify the Best Model**"
      ],
      "metadata": {
        "id": "PChOKDMjbDHx"
      }
    },
    {
      "cell_type": "code",
      "source": [
        "# Identify the best model based on testing accuracy\n",
        "best_model = results_df.loc[results_df['Testing Accuracy'].idxmax()]\n",
        "\n",
        "# Convert the accuracy columns to percentages for the best model\n",
        "best_model[\"Training Accuracy\"] = best_model[\"Training Accuracy\"] * 100\n",
        "best_model[\"Testing Accuracy\"] = best_model[\"Testing Accuracy\"] * 100\n",
        "best_model[\"Precision\"] = best_model[\"Precision\"] * 100\n",
        "best_model[\"Recall\"] = best_model[\"Recall\"] * 100\n",
        "best_model[\"F1 Score\"] = best_model[\"F1 Score\"] * 100\n",
        "\n",
        "# Round the results to two decimal places and format as percentages\n",
        "best_model = best_model.round({\"Training Accuracy\": 2, \"Testing Accuracy\": 2,\n",
        "                                \"Precision\": 2, \"Recall\": 2, \"F1 Score\": 2})\n",
        "\n",
        "# Format the values as percentages and display the best model\n",
        "best_model_display = best_model.apply(lambda x: f\"{x:.2f}%\" if isinstance(x, (int, float)) else x)\n",
        "\n",
        "# Print the best model with accuracy metrics as percentages\n",
        "print(\"\\nBest Model Based on Testing Accuracy:\")\n",
        "print(best_model_display)\n"
      ],
      "metadata": {
        "id": "ToyOe3XBUZFz",
        "colab": {
          "base_uri": "https://localhost:8080/"
        },
        "outputId": "1bc311d9-3e36-45a0-cd22-30393746d051"
      },
      "execution_count": 45,
      "outputs": [
        {
          "output_type": "stream",
          "name": "stdout",
          "text": [
            "\n",
            "Best Model Based on Testing Accuracy:\n",
            "Model                Logistic Regression\n",
            "Training Accuracy                 94.72%\n",
            "Testing Accuracy                  93.07%\n",
            "Precision                         93.56%\n",
            "Recall                            92.58%\n",
            "F1 Score                          93.07%\n",
            "Name: 0, dtype: object\n"
          ]
        }
      ]
    },
    {
      "cell_type": "markdown",
      "source": [
        "# **Confusion Matrix of Best Model**\n",
        "\n",
        "The confusion matrix is a 2x2 matrix:\n",
        "\n",
        " [[TN, FP],\n",
        "  [FN, TP]]\n",
        "\n",
        "Where:\n",
        "\n",
        "TN: True Negatives (correctly classified as \"Non-Hate Speech\")\n",
        "\n",
        "FP: False Positives (incorrectly classified as \"Hate Speech\")\n",
        "\n",
        "FN: False Negatives (incorrectly classified as \"Non-Hate Speech\")\n",
        "\n",
        "TP: True Positives (correctly classified as \"Hate Speech\")\n"
      ],
      "metadata": {
        "id": "HqlSPilKO0jC"
      }
    },
    {
      "cell_type": "code",
      "source": [
        "from sklearn.metrics import confusion_matrix, ConfusionMatrixDisplay\n",
        "\n",
        "# Generate predictions for the test set\n",
        "\n",
        "y_pred = models[\"Logistic Regression\"].predict(X_test)\n",
        "\n",
        "# Compute confusion matrix\n",
        "cm = confusion_matrix(y_test, y_pred)\n",
        "disp = ConfusionMatrixDisplay(confusion_matrix=cm, display_labels=[\"Non-Hate Speech\", \"Hate Speech\"])\n",
        "\n",
        "# Plot confusion matrix\n",
        "plt.figure(figsize=(8, 6))\n",
        "disp.plot(cmap=\"Blues\", values_format=\"d\")\n",
        "plt.title(\"Confusion Matrix\", fontsize=16)\n",
        "\n",
        "plt.show()\n"
      ],
      "metadata": {
        "id": "tCKrprB6y7TC",
        "colab": {
          "base_uri": "https://localhost:8080/",
          "height": 491
        },
        "outputId": "4f12c882-fda2-48fa-ce93-c65550a72750"
      },
      "execution_count": 46,
      "outputs": [
        {
          "output_type": "display_data",
          "data": {
            "text/plain": [
              "<Figure size 800x600 with 0 Axes>"
            ]
          },
          "metadata": {}
        },
        {
          "output_type": "display_data",
          "data": {
            "text/plain": [
              "<Figure size 640x480 with 2 Axes>"
            ],
            "image/png": "[encoded data removed]"
          },
          "metadata": {}
        }
      ]
    },
    {
      "cell_type": "markdown",
      "source": [
        "# **Save the Best Model**"
      ],
      "metadata": {
        "id": "xqs60NwebrTu"
      }
    },
    {
      "cell_type": "code",
      "source": [
        "# Save the best model\n",
        "best_model_name = best_model['Model']\n",
        "final_model = models[best_model_name]\n",
        "print(f\"Saving the best model: {best_model_name}\")\n",
        "import joblib\n",
        "joblib.dump(final_model, \"best_model_logistic_regression.pkl\")"
      ],
      "metadata": {
        "id": "8wygHE8WUcX0",
        "colab": {
          "base_uri": "https://localhost:8080/",
          "height": 0
        },
        "outputId": "008990e1-6a88-45ce-9402-d2af6e2c7386"
      },
      "execution_count": 21,
      "outputs": [
        {
          "output_type": "stream",
          "name": "stdout",
          "text": [
            "Saving the best model: Logistic Regression\n"
          ]
        },
        {
          "output_type": "execute_result",
          "data": {
            "text/plain": [
              "['best_model_logistic_regression.pkl']"
            ]
          },
          "metadata": {},
          "execution_count": 21
        }
      ]
    },
    {
      "cell_type": "code",
      "source": [
        "# from google.colab import files\n",
        "\n",
        "# # Download the saved model\n",
        "# files.download('best_model_logistic_regression.pkl')\n"
      ],
      "metadata": {
        "id": "Xgy-zTjJ0vpL",
        "colab": {
          "base_uri": "https://localhost:8080/",
          "height": 17
        },
        "outputId": "0f064bf6-4d24-4c4e-d864-fdc371cc0e3a"
      },
      "execution_count": null,
      "outputs": [
        {
          "output_type": "display_data",
          "data": {
            "text/plain": [
              "<IPython.core.display.Javascript object>"
            ],
            "application/javascript": [
              "\n",
              "    async function download(id, filename, size) {\n",
              "      if (!google.colab.kernel.accessAllowed) {\n",
              "        return;\n",
              "      }\n",
              "      const div = document.createElement('div');\n",
              "      const label = document.createElement('label');\n",
              "      label.textContent = `Downloading \"${filename}\": `;\n",
              "      div.appendChild(label);\n",
              "      const progress = document.createElement('progress');\n",
              "      progress.max = size;\n",
              "      div.appendChild(progress);\n",
              "      document.body.appendChild(div);\n",
              "\n",
              "      const buffers = [];\n",
              "      let downloaded = 0;\n",
              "\n",
              "      const channel = await google.colab.kernel.comms.open(id);\n",
              "      // Send a message to notify the kernel that we're ready.\n",
              "      channel.send({})\n",
              "\n",
              "      for await (const message of channel.messages) {\n",
              "        // Send a message to notify the kernel that we're ready.\n",
              "        channel.send({})\n",
              "        if (message.buffers) {\n",
              "          for (const buffer of message.buffers) {\n",
              "            buffers.push(buffer);\n",
              "            downloaded += buffer.byteLength;\n",
              "            progress.value = downloaded;\n",
              "          }\n",
              "        }\n",
              "      }\n",
              "      const blob = new Blob(buffers, {type: 'application/binary'});\n",
              "      const a = document.createElement('a');\n",
              "      a.href = window.URL.createObjectURL(blob);\n",
              "      a.download = filename;\n",
              "      div.appendChild(a);\n",
              "      a.click();\n",
              "      div.remove();\n",
              "    }\n",
              "  "
            ]
          },
          "metadata": {}
        },
        {
          "output_type": "display_data",
          "data": {
            "text/plain": [
              "<IPython.core.display.Javascript object>"
            ],
            "application/javascript": [
              "download(\"download_8ab54755-8811-4aff-8356-9968e336abe5\", \"best_model_logistic_regression.pkl\", 24863)"
            ]
          },
          "metadata": {}
        }
      ]
    },
    {
      "cell_type": "markdown",
      "source": [
        "# **Test the model with User Input**"
      ],
      "metadata": {
        "id": "mI97KR3Qbxkw"
      }
    },
    {
      "cell_type": "code",
      "source": [
        "# Testing with user input\n",
        "\n",
        "import joblib\n",
        "import string\n",
        "import re\n",
        "from nltk.corpus import stopwords\n",
        "from nltk.stem import PorterStemmer\n",
        "from nltk.stem import WordNetLemmatizer\n",
        "\n",
        "# Load the saved model and vectorizer\n",
        "final_model = joblib.load(\"best_model_logistic_regression.pkl\")\n",
        "tfidf = joblib.load(\"tfidf_vectorizer.pkl\")\n",
        "\n",
        "\n",
        "# Input text from the user\n",
        "user_input = input(\"Enter the text to classify: \")\n",
        "\n",
        "# Preprocess the input text\n",
        "user_input_cleaned = preprocess_text(user_input)\n",
        "\n",
        "# Vectorize the cleaned input using the loaded TF-IDF vectorizer\n",
        "user_input_vectorized = tfidf.transform([user_input_cleaned]).toarray()\n",
        "\n",
        "# Predict using the loaded model\n",
        "prediction = final_model.predict(user_input_vectorized)\n",
        "\n",
        "# Output classification result\n",
        "if prediction[0] == 1:\n",
        "    print(\"The input text is classified as Non-Hate Speech.\")\n",
        "else:\n",
        "    print(\"The input text is classified as Hate Speech.\")\n"
      ],
      "metadata": {
        "id": "O7XxrVuU2Pec",
        "colab": {
          "base_uri": "https://localhost:8080/"
        },
        "outputId": "dd447714-75f2-402b-c893-7a08192696f2"
      },
      "execution_count": 47,
      "outputs": [
        {
          "output_type": "stream",
          "name": "stdout",
          "text": [
            "Enter the text to classify: hello world\n",
            "The input text is classified as Non-Hate Speech.\n"
          ]
        }
      ]
    }
  ]
}
