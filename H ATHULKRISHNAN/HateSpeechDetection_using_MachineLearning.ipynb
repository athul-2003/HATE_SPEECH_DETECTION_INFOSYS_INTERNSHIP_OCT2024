{
  "nbformat": 4,
  "nbformat_minor": 0,
  "metadata": {
    "colab": {
      "provenance": [],
      "authorship_tag": "ABX9TyMP2sKy9T0dxgE8UEuqBvhV",
      "include_colab_link": true
    },
    "kernelspec": {
      "name": "python3",
      "display_name": "Python 3"
    },
    "language_info": {
      "name": "python"
    }
  },
  "cells": [
    {
      "cell_type": "markdown",
      "metadata": {
        "id": "view-in-github",
        "colab_type": "text"
      },
      "source": [
        "<a href=\"https://colab.research.google.com/github/springboardmentor891v/HATE_SPEECH_DETECTION_INFOSYS_INTERNSHIP_OCT2024/blob/main/HateSpeechDetection_using_MachineLearning.ipynb\" target=\"_parent\"><img src=\"https://colab.research.google.com/assets/colab-badge.svg\" alt=\"Open In Colab\"/></a>"
      ]
    },
    {
      "cell_type": "markdown",
      "source": [
        "## **Hate Speech Detection Using Machine Learning**"
      ],
      "metadata": {
        "id": "3dbLQH9xT3h9"
      }
    },
    {
      "cell_type": "code",
      "source": [
        "!pip install pandas scikit-learn nltk matplotlib seaborn"
      ],
      "metadata": {
        "id": "Z3hdfVIHiKlA",
        "collapsed": true
      },
      "execution_count": null,
      "outputs": []
    },
    {
      "cell_type": "code",
      "source": [
        "# Import Libraries\n",
        "import pandas as pd\n",
        "import numpy as np\n",
        "import string\n",
        "import re\n",
        "import nltk\n",
        "from nltk.corpus import stopwords\n",
        "from nltk.stem import PorterStemmer, WordNetLemmatizer\n",
        "from sklearn.model_selection import train_test_split, StratifiedKFold, cross_val_score, GridSearchCV\n",
        "from sklearn.metrics import accuracy_score, precision_score, recall_score, f1_score, classification_report\n",
        "from sklearn.linear_model import LogisticRegression\n",
        "from sklearn.ensemble import RandomForestClassifier, GradientBoostingClassifier, AdaBoostClassifier\n",
        "from sklearn.neighbors import KNeighborsClassifier\n",
        "from xgboost import XGBClassifier\n",
        "from sklearn.feature_extraction.text import TfidfVectorizer\n",
        "from imblearn.over_sampling import SMOTE\n",
        "import warnings\n",
        "from google.colab import files\n",
        "import matplotlib.pyplot as plt\n",
        "\n",
        "warnings.filterwarnings(\"ignore\")\n",
        "nltk.download('stopwords')\n",
        "nltk.download('wordnet')\n"
      ],
      "metadata": {
        "colab": {
          "base_uri": "https://localhost:8080/",
          "height": 0
        },
        "id": "yBR4qQmMqCYD",
        "outputId": "a1e73184-f5fb-4e94-e3bb-62cbd5fe5e0a",
        "collapsed": true
      },
      "execution_count": 1,
      "outputs": [
        {
          "output_type": "stream",
          "name": "stderr",
          "text": [
            "[nltk_data] Downloading package stopwords to /root/nltk_data...\n",
            "[nltk_data]   Unzipping corpora/stopwords.zip.\n",
            "[nltk_data] Downloading package wordnet to /root/nltk_data...\n"
          ]
        },
        {
          "output_type": "execute_result",
          "data": {
            "text/plain": [
              "True"
            ]
          },
          "metadata": {},
          "execution_count": 1
        }
      ]
    },
    {
      "cell_type": "markdown",
      "source": [
        "# **Upload Dataset**"
      ],
      "metadata": {
        "id": "nd7LzJn9X7Xg"
      }
    },
    {
      "cell_type": "code",
      "source": [
        "# Upload Raw Dataset\n",
        "uploaded = files.upload()\n",
        "\n",
        "# Retrieve the uploaded file path\n",
        "file_path = list(uploaded.keys())[0]\n",
        "\n",
        "# Load the raw dataset\n",
        "df = pd.read_csv(file_path, sep=',', names=['cleaned_text', 'label'], header=0)\n",
        "\n",
        "# Display the first few rows\n",
        "print(df.head())\n"
      ],
      "metadata": {
        "colab": {
          "base_uri": "https://localhost:8080/",
          "height": 177
        },
        "id": "yN4uFKkmqLVS",
        "outputId": "e52bcd3b-ea96-453d-b568-4040aa07beab"
      },
      "execution_count": 2,
      "outputs": [
        {
          "output_type": "display_data",
          "data": {
            "text/plain": [
              "<IPython.core.display.HTML object>"
            ],
            "text/html": [
              "\n",
              "     <input type=\"file\" id=\"files-1467e7c1-be24-4b32-87f6-25e7eb5d4a90\" name=\"files[]\" multiple disabled\n",
              "        style=\"border:none\" />\n",
              "     <output id=\"result-1467e7c1-be24-4b32-87f6-25e7eb5d4a90\">\n",
              "      Upload widget is only available when the cell has been executed in the\n",
              "      current browser session. Please rerun this cell to enable.\n",
              "      </output>\n",
              "      <script>// Copyright 2017 Google LLC\n",
              "//\n",
              "// Licensed under the Apache License, Version 2.0 (the \"License\");\n",
              "// you may not use this file except in compliance with the License.\n",
              "// You may obtain a copy of the License at\n",
              "//\n",
              "//      http://www.apache.org/licenses/LICENSE-2.0\n",
              "//\n",
              "// Unless required by applicable law or agreed to in writing, software\n",
              "// distributed under the License is distributed on an \"AS IS\" BASIS,\n",
              "// WITHOUT WARRANTIES OR CONDITIONS OF ANY KIND, either express or implied.\n",
              "// See the License for the specific language governing permissions and\n",
              "// limitations under the License.\n",
              "\n",
              "/**\n",
              " * @fileoverview Helpers for google.colab Python module.\n",
              " */\n",
              "(function(scope) {\n",
              "function span(text, styleAttributes = {}) {\n",
              "  const element = document.createElement('span');\n",
              "  element.textContent = text;\n",
              "  for (const key of Object.keys(styleAttributes)) {\n",
              "    element.style[key] = styleAttributes[key];\n",
              "  }\n",
              "  return element;\n",
              "}\n",
              "\n",
              "// Max number of bytes which will be uploaded at a time.\n",
              "const MAX_PAYLOAD_SIZE = 100 * 1024;\n",
              "\n",
              "function _uploadFiles(inputId, outputId) {\n",
              "  const steps = uploadFilesStep(inputId, outputId);\n",
              "  const outputElement = document.getElementById(outputId);\n",
              "  // Cache steps on the outputElement to make it available for the next call\n",
              "  // to uploadFilesContinue from Python.\n",
              "  outputElement.steps = steps;\n",
              "\n",
              "  return _uploadFilesContinue(outputId);\n",
              "}\n",
              "\n",
              "// This is roughly an async generator (not supported in the browser yet),\n",
              "// where there are multiple asynchronous steps and the Python side is going\n",
              "// to poll for completion of each step.\n",
              "// This uses a Promise to block the python side on completion of each step,\n",
              "// then passes the result of the previous step as the input to the next step.\n",
              "function _uploadFilesContinue(outputId) {\n",
              "  const outputElement = document.getElementById(outputId);\n",
              "  const steps = outputElement.steps;\n",
              "\n",
              "  const next = steps.next(outputElement.lastPromiseValue);\n",
              "  return Promise.resolve(next.value.promise).then((value) => {\n",
              "    // Cache the last promise value to make it available to the next\n",
              "    // step of the generator.\n",
              "    outputElement.lastPromiseValue = value;\n",
              "    return next.value.response;\n",
              "  });\n",
              "}\n",
              "\n",
              "/**\n",
              " * Generator function which is called between each async step of the upload\n",
              " * process.\n",
              " * @param {string} inputId Element ID of the input file picker element.\n",
              " * @param {string} outputId Element ID of the output display.\n",
              " * @return {!Iterable<!Object>} Iterable of next steps.\n",
              " */\n",
              "function* uploadFilesStep(inputId, outputId) {\n",
              "  const inputElement = document.getElementById(inputId);\n",
              "  inputElement.disabled = false;\n",
              "\n",
              "  const outputElement = document.getElementById(outputId);\n",
              "  outputElement.innerHTML = '';\n",
              "\n",
              "  const pickedPromise = new Promise((resolve) => {\n",
              "    inputElement.addEventListener('change', (e) => {\n",
              "      resolve(e.target.files);\n",
              "    });\n",
              "  });\n",
              "\n",
              "  const cancel = document.createElement('button');\n",
              "  inputElement.parentElement.appendChild(cancel);\n",
              "  cancel.textContent = 'Cancel upload';\n",
              "  const cancelPromise = new Promise((resolve) => {\n",
              "    cancel.onclick = () => {\n",
              "      resolve(null);\n",
              "    };\n",
              "  });\n",
              "\n",
              "  // Wait for the user to pick the files.\n",
              "  const files = yield {\n",
              "    promise: Promise.race([pickedPromise, cancelPromise]),\n",
              "    response: {\n",
              "      action: 'starting',\n",
              "    }\n",
              "  };\n",
              "\n",
              "  cancel.remove();\n",
              "\n",
              "  // Disable the input element since further picks are not allowed.\n",
              "  inputElement.disabled = true;\n",
              "\n",
              "  if (!files) {\n",
              "    return {\n",
              "      response: {\n",
              "        action: 'complete',\n",
              "      }\n",
              "    };\n",
              "  }\n",
              "\n",
              "  for (const file of files) {\n",
              "    const li = document.createElement('li');\n",
              "    li.append(span(file.name, {fontWeight: 'bold'}));\n",
              "    li.append(span(\n",
              "        `(${file.type || 'n/a'}) - ${file.size} bytes, ` +\n",
              "        `last modified: ${\n",
              "            file.lastModifiedDate ? file.lastModifiedDate.toLocaleDateString() :\n",
              "                                    'n/a'} - `));\n",
              "    const percent = span('0% done');\n",
              "    li.appendChild(percent);\n",
              "\n",
              "    outputElement.appendChild(li);\n",
              "\n",
              "    const fileDataPromise = new Promise((resolve) => {\n",
              "      const reader = new FileReader();\n",
              "      reader.onload = (e) => {\n",
              "        resolve(e.target.result);\n",
              "      };\n",
              "      reader.readAsArrayBuffer(file);\n",
              "    });\n",
              "    // Wait for the data to be ready.\n",
              "    let fileData = yield {\n",
              "      promise: fileDataPromise,\n",
              "      response: {\n",
              "        action: 'continue',\n",
              "      }\n",
              "    };\n",
              "\n",
              "    // Use a chunked sending to avoid message size limits. See b/62115660.\n",
              "    let position = 0;\n",
              "    do {\n",
              "      const length = Math.min(fileData.byteLength - position, MAX_PAYLOAD_SIZE);\n",
              "      const chunk = new Uint8Array(fileData, position, length);\n",
              "      position += length;\n",
              "\n",
              "      const base64 = btoa(String.fromCharCode.apply(null, chunk));\n",
              "      yield {\n",
              "        response: {\n",
              "          action: 'append',\n",
              "          file: file.name,\n",
              "          data: base64,\n",
              "        },\n",
              "      };\n",
              "\n",
              "      let percentDone = fileData.byteLength === 0 ?\n",
              "          100 :\n",
              "          Math.round((position / fileData.byteLength) * 100);\n",
              "      percent.textContent = `${percentDone}% done`;\n",
              "\n",
              "    } while (position < fileData.byteLength);\n",
              "  }\n",
              "\n",
              "  // All done.\n",
              "  yield {\n",
              "    response: {\n",
              "      action: 'complete',\n",
              "    }\n",
              "  };\n",
              "}\n",
              "\n",
              "scope.google = scope.google || {};\n",
              "scope.google.colab = scope.google.colab || {};\n",
              "scope.google.colab._files = {\n",
              "  _uploadFiles,\n",
              "  _uploadFilesContinue,\n",
              "};\n",
              "})(self);\n",
              "</script> "
            ]
          },
          "metadata": {}
        },
        {
          "output_type": "stream",
          "name": "stdout",
          "text": [
            "Saving hate_speech_combined_dataset.csv to hate_speech_combined_dataset.csv\n",
            "                                        cleaned_text  label\n",
            "0  !!! RT @mayasolovely: As a woman you shouldn't...      1\n",
            "1    \" momma said no pussy cats inside my doghouse \"      1\n",
            "2  \"@Addicted2Guys: -SimplyAddictedToGuys http://...      1\n",
            "3  \"@AllAboutManFeet: http://t.co/3gzUpfuMev\" woo...      1\n",
            "4  \"@Allyhaaaaa: Lemmie eat a Oreo &amp; do these...      1\n"
          ]
        }
      ]
    },
    {
      "cell_type": "markdown",
      "source": [
        "# **Dataset Preprocessing**"
      ],
      "metadata": {
        "id": "tzhqSjC9YK5t"
      }
    },
    {
      "cell_type": "code",
      "source": [
        "# Handle Missing Values\n",
        "df = df.dropna(subset=['label', 'cleaned_text'])  # Drop rows with missing values in either column\n",
        "\n",
        "# Display dataset info after handling missing values\n",
        "print(f\"Dataset shape after removing missing values: {df.shape}\")\n"
      ],
      "metadata": {
        "id": "IOcOv6LTqleE",
        "colab": {
          "base_uri": "https://localhost:8080/",
          "height": 0
        },
        "outputId": "9c2bebdc-6169-4202-f677-935f3895279b"
      },
      "execution_count": 3,
      "outputs": [
        {
          "output_type": "stream",
          "name": "stdout",
          "text": [
            "Dataset shape after removing missing values: (34621, 2)\n"
          ]
        }
      ]
    },
    {
      "cell_type": "code",
      "source": [
        "# Define Preprocessing Steps\n",
        "def preprocess_text(text):\n",
        "    # Lowercasing\n",
        "    text = text.lower()\n",
        "    # Removing Punctuation\n",
        "    text = text.translate(str.maketrans('', '', string.punctuation))\n",
        "    # Removing Stop Words\n",
        "    stop_words = set(stopwords.words('english'))\n",
        "    text = ' '.join(word for word in text.split() if word not in stop_words)\n",
        "    # Stemming\n",
        "    stemmer = PorterStemmer()\n",
        "    text = ' '.join(stemmer.stem(word) for word in text.split())\n",
        "    # Lemmatization\n",
        "    lemmatizer = WordNetLemmatizer()\n",
        "    text = ' '.join(lemmatizer.lemmatize(word) for word in text.split())\n",
        "    # Removing Numbers\n",
        "    text = re.sub(r'\\d+', '', text)\n",
        "    # Removing Whitespace\n",
        "    text = re.sub(r'\\s+', ' ', text).strip()\n",
        "    return text\n"
      ],
      "metadata": {
        "id": "3XtG_YUvqrws"
      },
      "execution_count": 4,
      "outputs": []
    },
    {
      "cell_type": "code",
      "source": [
        "# Apply Preprocessing\n",
        "df['cleaned_text'] = df['cleaned_text'].astype(str).apply(preprocess_text)\n",
        "\n",
        "# Display the first few rows after preprocessing\n",
        "print(df.head())\n"
      ],
      "metadata": {
        "id": "v4TuICcPqtl2",
        "colab": {
          "base_uri": "https://localhost:8080/",
          "height": 0
        },
        "outputId": "3e72be1e-6b96-4451-ca05-79bf589c8887"
      },
      "execution_count": 5,
      "outputs": [
        {
          "output_type": "stream",
          "name": "stdout",
          "text": [
            "                                        cleaned_text  label\n",
            "0  rt mayasolov woman shouldnt complain clean hou...      1\n",
            "1                 momma said pussi cat insid doghous      1\n",
            "2  addictedguy simplyaddictedtoguy httptcojlhizmf...      1\n",
            "3  allaboutmanfeet httptcogzupfumev woof woof hot...      1\n",
            "4    allyhaaaaa lemmi eat oreo amp dish one oreo lol      1\n"
          ]
        }
      ]
    },
    {
      "cell_type": "code",
      "source": [
        "# Check Class Distribution Before SMOTE\n",
        "print(\"Class Distribution Before SMOTE:\\n\", df['label'].value_counts())\n"
      ],
      "metadata": {
        "id": "ooTmxvk5rReW",
        "colab": {
          "base_uri": "https://localhost:8080/"
        },
        "outputId": "18d7e740-c172-4c82-d709-c90945e32e34"
      },
      "execution_count": 49,
      "outputs": [
        {
          "output_type": "stream",
          "name": "stdout",
          "text": [
            "Class Distribution Before SMOTE:\n",
            " label\n",
            "0    26627\n",
            "1     7994\n",
            "Name: count, dtype: int64\n"
          ]
        }
      ]
    },
    {
      "cell_type": "markdown",
      "source": [
        "# **Text Vectorization and SMOTE for Class Imbalance Handling**"
      ],
      "metadata": {
        "id": "yIIv5p-Ut-Eq"
      }
    },
    {
      "cell_type": "code",
      "source": [
        "# Separate Features and Target\n",
        "X = df['cleaned_text']  # 'cleaned_text' contains the text data (features)\n",
        "y = df['label']  # 'label' contains the target variable (class labels: hate speech or non-hate speech)\n",
        "\n",
        "# Convert text data to numeric features using TF-IDF\n",
        "# max_features=5000 ensures that only the top 5000 most important features (words) are considered\n",
        "# ngram_range=(1, 2) considers both unigrams (individual words) and bigrams (pairs of consecutive words)\n",
        "vectorizer = TfidfVectorizer(max_features=5000, ngram_range=(1, 2))\n",
        "X_tfidf = vectorizer.fit_transform(X)  # Apply the transformation to the text data (X)\n",
        "\n",
        "# Output the shape of the resulting feature matrix (number of samples, number of features)\n",
        "print(\"TF-IDF vectorization complete. Shape of X_tfidf:\", X_tfidf.shape)\n"
      ],
      "metadata": {
        "id": "D2cVjinTrVQb",
        "colab": {
          "base_uri": "https://localhost:8080/"
        },
        "outputId": "d5d98e32-d1f6-4f46-c444-c6fd7140a353"
      },
      "execution_count": 79,
      "outputs": [
        {
          "output_type": "stream",
          "name": "stdout",
          "text": [
            "TF-IDF vectorization complete. Shape of X_tfidf: (34621, 5000)\n"
          ]
        }
      ]
    },
    {
      "cell_type": "code",
      "source": [
        "# Apply SMOTE to balance the classes\n",
        "# SMOTE generates synthetic samples for the minority class to balance the dataset\n",
        "smote = SMOTE(random_state=42)\n",
        "\n",
        "# Create a balanced dataset with SMOTE\n",
        "X_smote, y_smote = smote.fit_resample(X_tfidf, y)\n",
        "\n",
        "# Print the new class distribution after applying SMOTE\n",
        "print(\"\\nClass Distribution After SMOTE:\\n\", pd.Series(y_smote).value_counts())\n"
      ],
      "metadata": {
        "id": "FpuT5loOraY7",
        "colab": {
          "base_uri": "https://localhost:8080/"
        },
        "outputId": "faadcf90-467d-41db-cd8f-c25855f54be6"
      },
      "execution_count": 80,
      "outputs": [
        {
          "output_type": "stream",
          "name": "stdout",
          "text": [
            "\n",
            "Class Distribution After SMOTE:\n",
            " label\n",
            "1    26627\n",
            "0    26627\n",
            "Name: count, dtype: int64\n"
          ]
        }
      ]
    },
    {
      "cell_type": "code",
      "source": [
        "# cleaned_df = pd.read_csv('cleaned_balanced_dataset.csv')"
      ],
      "metadata": {
        "id": "lG68gBrTsJ3y"
      },
      "execution_count": null,
      "outputs": []
    },
    {
      "cell_type": "code",
      "source": [
        "# Create a pie chart to visualize the class distribution after applying SMOTE\n",
        "fig = plt.figure(figsize=(5,5))  # Set the figure size\n",
        "\n",
        "# Define pie chart properties\n",
        "colors = (\"red\", \"gold\")  # Segment colors\n",
        "wp = {'linewidth': 2, 'edgecolor': \"black\"}  # Wedge properties (style)\n",
        "explode = (0.1, 0.1)  # Offset slices for emphasis\n",
        "\n",
        "# Plot the class distribution of the balanced dataset as a pie chart\n",
        "tags = pd.Series(y_smote).value_counts()  # Count the samples for each class after SMOTE\n",
        "tags.plot(kind='pie', autopct='%1.1f%%', shadow=True, colors=colors,\n",
        "          startangle=90, wedgeprops=wp, explode=explode, label='')\n",
        "\n",
        "# Add a title for context\n",
        "plt.title('Distribution of Data After SMOTE')\n"
      ],
      "metadata": {
        "colab": {
          "base_uri": "https://localhost:8080/",
          "height": 461
        },
        "id": "KORUztDWtGDg",
        "outputId": "840fe81d-98b1-4a29-d1ff-0dfbc3cd611f"
      },
      "execution_count": 77,
      "outputs": [
        {
          "output_type": "execute_result",
          "data": {
            "text/plain": [
              "Text(0.5, 1.0, 'Distribution of Data After SMOTE')"
            ]
          },
          "metadata": {},
          "execution_count": 77
        },
        {
          "output_type": "display_data",
          "data": {
            "text/plain": [
              "<Figure size 500x500 with 1 Axes>"
            ],
            "image/png": "[encoded data removed]"
          },
          "metadata": {}
        }
      ]
    },
    {
      "cell_type": "markdown",
      "source": [
        "# **Model Training**\n",
        "\n",
        "Trained the model using ML algorithms: Logistic Regression, Random Forest, K-Nearest Neighbors (KNN), XGBoost, and AdaBoost."
      ],
      "metadata": {
        "id": "etfF0VRh-m_y"
      }
    },
    {
      "cell_type": "code",
      "source": [
        "# Splitting data into training and test sets\n",
        "X_train, X_test, y_train, y_test = train_test_split(X_smote, y_smote, test_size=0.2, random_state=42)\n",
        "\n",
        "# Dictionary to store models and their performance\n",
        "models = {\n",
        "    \"Logistic Regression\": LogisticRegression(C=10, multi_class='ovr', solver='lbfgs', random_state=42),\n",
        "    # \"Random Forest\": RandomForestClassifier(\n",
        "    #     n_estimators=300,\n",
        "    #     max_depth=30,\n",
        "    #     min_samples_split=5,\n",
        "    #     min_samples_leaf=2,\n",
        "    #     random_state=42\n",
        "    # ),\n",
        "    \"Random Forest\": RandomForestClassifier(\n",
        "    n_estimators=500,       # Increase number of trees for robustness\n",
        "    max_depth=40,           # Increase depth if the model is underfitting\n",
        "    min_samples_split=4,    # Try slightly reducing split samples to allow for more splits\n",
        "    min_samples_leaf=1,     # Allow smaller leaves if the model needs to capture finer details\n",
        "    random_state=42         # For reproducibility\n",
        "    ),\n",
        "\n",
        "    # \"K-Nearest Neighbors\": KNeighborsClassifier(n_neighbors=7),\n",
        "\n",
        "    \"K-Nearest Neighbors\": KNeighborsClassifier(\n",
        "    n_neighbors=9,\n",
        "    weights='distance',   # Weight the neighbors by distance\n",
        "    metric='manhattan'    # Try Manhattan distance metric for better results\n",
        "    ),\n",
        "\n",
        "    \"XGBoost\": XGBClassifier(\n",
        "    n_estimators=150,\n",
        "    max_depth=12,\n",
        "    learning_rate=0.05,\n",
        "    use_label_encoder=False,\n",
        "    eval_metric=\"logloss\",\n",
        "    random_state=42\n",
        "    ),\n",
        "\n",
        "    \"AdaBoost\": AdaBoostClassifier(\n",
        "    n_estimators=200,\n",
        "    learning_rate=0.7,\n",
        "    random_state=42\n",
        "    )\n",
        "\n",
        "}\n",
        "\n",
        "# Training and evaluating models\n",
        "results = []\n",
        "\n",
        "for model_name, model in models.items():\n",
        "    print(f\"Training {model_name}...\")\n",
        "\n",
        "    # Using cross-validation to evaluate the model\n",
        "    cv_scores = cross_val_score(model, X_train, y_train, cv=5)\n",
        "    print(f\"Cross-validation scores: {cv_scores}\")\n",
        "    print(f\"Mean CV score: {cv_scores.mean()}\")\n",
        "\n",
        "    # Fit the model to training data\n",
        "    model.fit(X_train, y_train)\n",
        "\n",
        "    # Training accuracy\n",
        "    y_train_pred = model.predict(X_train)\n",
        "    train_accuracy = accuracy_score(y_train, y_train_pred)\n",
        "\n",
        "    # Testing accuracy\n",
        "    y_test_pred = model.predict(X_test)\n",
        "    test_accuracy = accuracy_score(y_test, y_test_pred)\n",
        "\n",
        "    # Precision, recall, F1 score on testing data\n",
        "    precision = precision_score(y_test, y_test_pred)\n",
        "    recall = recall_score(y_test, y_test_pred)\n",
        "    f1 = f1_score(y_test, y_test_pred)\n",
        "\n",
        "    print(f\"\\n{model_name} Metrics:\")\n",
        "    print(f\"Training Accuracy: {train_accuracy:.4f}\")\n",
        "    print(f\"Testing Accuracy: {test_accuracy:.4f}\")\n",
        "    print(f\"Precision: {precision:.4f}\")\n",
        "    print(f\"Recall: {recall:.4f}\")\n",
        "    print(f\"F1 Score: {f1:.4f}\")\n",
        "    print(\"=\"*50)\n",
        "\n",
        "    # Append results for visualization\n",
        "    results.append({\n",
        "        \"Model\": model_name,\n",
        "        \"Training Accuracy\": train_accuracy,\n",
        "        \"Testing Accuracy\": test_accuracy,\n",
        "        \"Precision\": precision,\n",
        "        \"Recall\": recall,\n",
        "        \"F1 Score\": f1\n",
        "    })\n",
        "\n",
        "# Convert results to DataFrame for better visualization\n",
        "results_df = pd.DataFrame(results)\n",
        "\n",
        "# Display results\n",
        "print(results_df)"
      ],
      "metadata": {
        "colab": {
          "base_uri": "https://localhost:8080/"
        },
        "id": "DmpdNCzJmxO4",
        "outputId": "0a0aea17-2958-439b-ad4b-25f34fb4f13b"
      },
      "execution_count": 81,
      "outputs": [
        {
          "output_type": "stream",
          "name": "stdout",
          "text": [
            "Training Logistic Regression...\n",
            "Cross-validation scores: [0.9397958  0.9397958  0.93920901 0.9379108  0.94096244]\n",
            "Mean CV score: 0.9395347699387264\n",
            "\n",
            "Logistic Regression Metrics:\n",
            "Training Accuracy: 0.9622\n",
            "Testing Accuracy: 0.9411\n",
            "Precision: 0.9303\n",
            "Recall: 0.9536\n",
            "F1 Score: 0.9418\n",
            "==================================================\n",
            "Training Random Forest...\n",
            "Cross-validation scores: [0.90271095 0.88710245 0.89449595 0.89542254 0.9       ]\n",
            "Mean CV score: 0.8959463777147099\n",
            "\n",
            "Random Forest Metrics:\n",
            "Training Accuracy: 0.9257\n",
            "Testing Accuracy: 0.9037\n",
            "Precision: 0.8979\n",
            "Recall: 0.9107\n",
            "F1 Score: 0.9043\n",
            "==================================================\n",
            "Training K-Nearest Neighbors...\n",
            "Cross-validation scores: [0.66330243 0.67339514 0.67280836 0.6713615  0.67711268]\n",
            "Mean CV score: 0.67159602098764\n",
            "\n",
            "K-Nearest Neighbors Metrics:\n",
            "Training Accuracy: 0.9949\n",
            "Testing Accuracy: 0.6759\n",
            "Precision: 0.6073\n",
            "Recall: 0.9944\n",
            "F1 Score: 0.7540\n",
            "==================================================\n",
            "Training XGBoost...\n",
            "Cross-validation scores: [0.88815867 0.8795916  0.88111724 0.8721831  0.88086854]\n",
            "Mean CV score: 0.880383829401319\n",
            "\n",
            "XGBoost Metrics:\n",
            "Training Accuracy: 0.8936\n",
            "Testing Accuracy: 0.8880\n",
            "Precision: 0.9534\n",
            "Recall: 0.8156\n",
            "F1 Score: 0.8792\n",
            "==================================================\n",
            "Training AdaBoost...\n",
            "Cross-validation scores: [0.8779486  0.87830067 0.87759653 0.87042254 0.88204225]\n",
            "Mean CV score: 0.877262116295945\n",
            "\n",
            "AdaBoost Metrics:\n",
            "Training Accuracy: 0.8828\n",
            "Testing Accuracy: 0.8847\n",
            "Precision: 0.9513\n",
            "Recall: 0.8107\n",
            "F1 Score: 0.8754\n",
            "==================================================\n",
            "                 Model  Training Accuracy  Testing Accuracy  Precision  \\\n",
            "0  Logistic Regression           0.962233          0.941132   0.930326   \n",
            "1        Random Forest           0.925709          0.903671   0.897906   \n",
            "2  K-Nearest Neighbors           0.994930          0.675899   0.607254   \n",
            "3              XGBoost           0.893646          0.887992   0.953427   \n",
            "4             AdaBoost           0.882802          0.884706   0.951268   \n",
            "\n",
            "     Recall  F1 Score  \n",
            "0  0.953580  0.941810  \n",
            "1  0.910731  0.904273  \n",
            "2  0.994362  0.754026  \n",
            "3  0.815636  0.879165  \n",
            "4  0.810750  0.875406  \n"
          ]
        }
      ]
    },
    {
      "cell_type": "code",
      "source": [
        "import joblib\n",
        "\n",
        "# Save the vectorizer\n",
        "joblib.dump(vectorizer, \"X_tfidf_vectorizer.pkl\")\n"
      ],
      "metadata": {
        "id": "J7iHnGeS5lW6",
        "colab": {
          "base_uri": "https://localhost:8080/"
        },
        "outputId": "0b8ed7e3-a366-4af9-a3a9-d8324d66c7d6"
      },
      "execution_count": 82,
      "outputs": [
        {
          "output_type": "execute_result",
          "data": {
            "text/plain": [
              "['X_tfidf_vectorizer.pkl']"
            ]
          },
          "metadata": {},
          "execution_count": 82
        }
      ]
    },
    {
      "cell_type": "markdown",
      "source": [
        "# **Results**"
      ],
      "metadata": {
        "id": "QMVTwEovaUWa"
      }
    },
    {
      "cell_type": "code",
      "source": [
        "# Create a separate cell to display accuracy metrics as percentages\n",
        "accuracy_metrics = results_df[[\"Model\", \"Training Accuracy\", \"Testing Accuracy\"]]\n",
        "\n",
        "# Convert the accuracy columns to percentages\n",
        "accuracy_metrics[\"Training Accuracy\"] = accuracy_metrics[\"Training Accuracy\"] * 100\n",
        "accuracy_metrics[\"Testing Accuracy\"] = accuracy_metrics[\"Testing Accuracy\"] * 100\n",
        "\n",
        "# Print the results as percentages\n",
        "accuracy_metrics = accuracy_metrics.round({\"Training Accuracy\": 2, \"Testing Accuracy\": 2})\n",
        "print(accuracy_metrics)\n"
      ],
      "metadata": {
        "colab": {
          "base_uri": "https://localhost:8080/"
        },
        "id": "FH3aAQEbaEJt",
        "outputId": "ba0a4ab0-24d4-4b2e-ab10-8bfc60a0623e"
      },
      "execution_count": 83,
      "outputs": [
        {
          "output_type": "stream",
          "name": "stdout",
          "text": [
            "                 Model  Training Accuracy  Testing Accuracy\n",
            "0  Logistic Regression              96.22             94.11\n",
            "1        Random Forest              92.57             90.37\n",
            "2  K-Nearest Neighbors              99.49             67.59\n",
            "3              XGBoost              89.36             88.80\n",
            "4             AdaBoost              88.28             88.47\n"
          ]
        }
      ]
    },
    {
      "cell_type": "code",
      "source": [
        "# Set up figure and axes\n",
        "fig, axes = plt.subplots(1, 2, figsize=(20, 6))\n",
        "\n",
        "# Plot the training accuracy\n",
        "axes[0].bar(results_df[\"Model\"], results_df[\"Training Accuracy\"], color=\"skyblue\")\n",
        "axes[0].set_title(\"Training Accuracy\")\n",
        "axes[0].set_ylabel(\"Accuracy\")\n",
        "axes[0].set_xticklabels(results_df[\"Model\"], rotation=45)\n",
        "\n",
        "# Plot the testing accuracy\n",
        "axes[1].bar(results_df[\"Model\"], results_df[\"Testing Accuracy\"], color=\"lightgreen\")\n",
        "axes[1].set_title(\"Testing Accuracy\")\n",
        "axes[1].set_ylabel(\"Accuracy\")\n",
        "axes[1].set_xticklabels(results_df[\"Model\"], rotation=45)\n",
        "\n",
        "\n",
        "# Improve layout\n",
        "plt.tight_layout()\n",
        "\n",
        "# Show the plot\n",
        "plt.show()"
      ],
      "metadata": {
        "colab": {
          "base_uri": "https://localhost:8080/",
          "height": 360
        },
        "id": "7larE0wmY-ib",
        "outputId": "34d90002-002e-46da-ddc2-227baa4d5479"
      },
      "execution_count": 84,
      "outputs": [
        {
          "output_type": "display_data",
          "data": {
            "text/plain": [
              "<Figure size 2000x600 with 2 Axes>"
            ],
            "image/png": "[encoded data removed]"
          },
          "metadata": {}
        }
      ]
    },
    {
      "cell_type": "markdown",
      "source": [
        "# **Identify the Best Model**"
      ],
      "metadata": {
        "id": "PChOKDMjbDHx"
      }
    },
    {
      "cell_type": "code",
      "source": [
        "# Identify the best model based on testing accuracy\n",
        "best_model = results_df.loc[results_df['Testing Accuracy'].idxmax()]\n",
        "\n",
        "# Convert the accuracy columns to percentages for the best model\n",
        "best_model[\"Training Accuracy\"] = best_model[\"Training Accuracy\"] * 100\n",
        "best_model[\"Testing Accuracy\"] = best_model[\"Testing Accuracy\"] * 100\n",
        "best_model[\"Precision\"] = best_model[\"Precision\"] * 100\n",
        "best_model[\"Recall\"] = best_model[\"Recall\"] * 100\n",
        "best_model[\"F1 Score\"] = best_model[\"F1 Score\"] * 100\n",
        "\n",
        "# Round the results to two decimal places and format as percentages\n",
        "best_model = best_model.round({\"Training Accuracy\": 2, \"Testing Accuracy\": 2,\n",
        "                                \"Precision\": 2, \"Recall\": 2, \"F1 Score\": 2})\n",
        "\n",
        "# Format the values as percentages and display the best model\n",
        "best_model_display = best_model.apply(lambda x: f\"{x:.2f}%\" if isinstance(x, (int, float)) else x)\n",
        "\n",
        "# Print the best model with accuracy metrics as percentages\n",
        "print(\"\\nBest Model Based on Testing Accuracy:\")\n",
        "print(best_model_display)\n"
      ],
      "metadata": {
        "id": "ToyOe3XBUZFz",
        "colab": {
          "base_uri": "https://localhost:8080/"
        },
        "outputId": "7cf851f5-aa7a-4bed-90c5-5f370fb5742a"
      },
      "execution_count": 86,
      "outputs": [
        {
          "output_type": "stream",
          "name": "stdout",
          "text": [
            "\n",
            "Best Model Based on Testing Accuracy:\n",
            "Model                Logistic Regression\n",
            "Training Accuracy                 96.22%\n",
            "Testing Accuracy                  94.11%\n",
            "Precision                         93.03%\n",
            "Recall                            95.36%\n",
            "F1 Score                          94.18%\n",
            "Name: 0, dtype: object\n"
          ]
        }
      ]
    },
    {
      "cell_type": "markdown",
      "source": [
        "# **Confusion Matrix of Best Model**\n",
        "\n",
        "The confusion matrix is a 2x2 matrix:\n",
        "\n",
        " [[TN, FP],\n",
        "  [FN, TP]]\n",
        "\n",
        "Where:\n",
        "\n",
        "TN: True Negatives (correctly classified as \"Non-Hate Speech\")\n",
        "\n",
        "FP: False Positives (incorrectly classified as \"Hate Speech\")\n",
        "\n",
        "FN: False Negatives (incorrectly classified as \"Non-Hate Speech\")\n",
        "\n",
        "TP: True Positives (correctly classified as \"Hate Speech\")\n"
      ],
      "metadata": {
        "id": "HqlSPilKO0jC"
      }
    },
    {
      "cell_type": "code",
      "source": [
        "from sklearn.metrics import confusion_matrix, ConfusionMatrixDisplay\n",
        "\n",
        "# Generate predictions for the test set\n",
        "\n",
        "y_pred = models[\"Logistic Regression\"].predict(X_test)\n",
        "\n",
        "# Compute confusion matrix\n",
        "cm = confusion_matrix(y_test, y_pred)\n",
        "disp = ConfusionMatrixDisplay(confusion_matrix=cm, display_labels=[\"Non-Hate Speech\", \"Hate Speech\"])\n",
        "\n",
        "# Plot confusion matrix\n",
        "plt.figure(figsize=(8, 6))\n",
        "disp.plot(cmap=\"Blues\", values_format=\"d\")\n",
        "plt.title(\"Confusion Matrix\", fontsize=16)\n",
        "\n",
        "plt.show()\n"
      ],
      "metadata": {
        "id": "tCKrprB6y7TC",
        "colab": {
          "base_uri": "https://localhost:8080/",
          "height": 491
        },
        "outputId": "3d77b307-8f62-421a-c510-91e8af6c9abb"
      },
      "execution_count": 87,
      "outputs": [
        {
          "output_type": "display_data",
          "data": {
            "text/plain": [
              "<Figure size 800x600 with 0 Axes>"
            ]
          },
          "metadata": {}
        },
        {
          "output_type": "display_data",
          "data": {
            "text/plain": [
              "<Figure size 640x480 with 2 Axes>"
            ],
            "image/png": "[encoded data removed]"
          },
          "metadata": {}
        }
      ]
    },
    {
      "cell_type": "markdown",
      "source": [
        "# **Save the Best Model**"
      ],
      "metadata": {
        "id": "xqs60NwebrTu"
      }
    },
    {
      "cell_type": "code",
      "source": [
        "# Save the best model\n",
        "best_model_name = best_model['Model']\n",
        "final_model = models[best_model_name]\n",
        "print(f\"Saving the best model: {best_model_name}\")\n",
        "import joblib\n",
        "joblib.dump(final_model, \"best_model_logistic_regression.pkl\")"
      ],
      "metadata": {
        "id": "8wygHE8WUcX0",
        "colab": {
          "base_uri": "https://localhost:8080/"
        },
        "outputId": "2fa92811-4181-49ad-cdd7-02802043ea4f"
      },
      "execution_count": 88,
      "outputs": [
        {
          "output_type": "stream",
          "name": "stdout",
          "text": [
            "Saving the best model: Logistic Regression\n"
          ]
        },
        {
          "output_type": "execute_result",
          "data": {
            "text/plain": [
              "['best_model_logistic_regression.pkl']"
            ]
          },
          "metadata": {},
          "execution_count": 88
        }
      ]
    },
    {
      "cell_type": "markdown",
      "source": [
        "# **Test the model with User Input**"
      ],
      "metadata": {
        "id": "mI97KR3Qbxkw"
      }
    },
    {
      "cell_type": "code",
      "source": [
        "# Testing with user input\n",
        "\n",
        "import joblib\n",
        "import string\n",
        "import re\n",
        "from nltk.corpus import stopwords\n",
        "from nltk.stem import PorterStemmer\n",
        "from nltk.stem import WordNetLemmatizer\n",
        "\n",
        "# Load the saved model and vectorizer\n",
        "final_model = joblib.load(\"best_model_logistic_regression.pkl\")\n",
        "vectorizer = joblib.load(\"X_tfidf_vectorizer.pkl\")  # Load the actual vectorizer object\n",
        "\n",
        "\n",
        "# Input text from the user\n",
        "user_input = input(\"Enter the text to classify: \")\n",
        "\n",
        "# Preprocess the input text\n",
        "user_input_cleaned = preprocess_text(user_input)\n",
        "\n",
        "# Vectorize the cleaned input using the loaded TF-IDF vectorizer\n",
        "user_input_vectorized = vectorizer.transform([user_input_cleaned]).toarray() # Now this should work\n",
        "\n",
        "# Predict using the loaded model\n",
        "prediction = final_model.predict(user_input_vectorized)\n",
        "\n",
        "# Output classification result\n",
        "if prediction[0] == 1:\n",
        "    print(\"The input text is classified as Non-Hate Speech.\")\n",
        "else:\n",
        "    print(\"The input text is classified as Hate Speech.\")"
      ],
      "metadata": {
        "id": "O7XxrVuU2Pec",
        "colab": {
          "base_uri": "https://localhost:8080/"
        },
        "outputId": "71c42786-dfd1-448a-d589-f2eb2140fe3a"
      },
      "execution_count": 97,
      "outputs": [
        {
          "output_type": "stream",
          "name": "stdout",
          "text": [
            "Enter the text to classify: hello world\n",
            "The input text is classified as Non-Hate Speech.\n"
          ]
        }
      ]
    }
  ]
}
